{
 "cells": [
  {
   "cell_type": "markdown",
   "id": "OCPaxdaoe4QB",
   "metadata": {
    "id": "OCPaxdaoe4QB"
   },
   "source": [
    "# Importing Necessary Libraries"
   ]
  },
  {
   "cell_type": "code",
   "execution_count": 1,
   "id": "c57376e9-c39d-4427-aa3f-6a86041f815f",
   "metadata": {
    "id": "c57376e9-c39d-4427-aa3f-6a86041f815f"
   },
   "outputs": [
    {
     "name": "stderr",
     "output_type": "stream",
     "text": [
      "\n",
      "KeyboardInterrupt\n",
      "\n"
     ]
    }
   ],
   "source": [
    "# These are used to handle data laoding directly from Kaggle\n",
    "import requests\n",
    "from zipfile import ZipFile\n",
    "from io import BytesIO\n",
    "\n",
    "# Preprocessing\n",
    "import re\n",
    "import numpy as np\n",
    "import pandas as pd\n",
    "from dython.nominal import associations\n",
    "from scipy.stats import mannwhitneyu\n",
    "import matplotlib.pyplot as plt\n",
    "import seaborn as sns\n",
    "from sklearn.preprocessing import StandardScaler\n",
    "\n",
    "# Modelling, Predication, and Evaluation\n",
    "from sklearn.neighbors import KNeighborsClassifier\n",
    "from sklearn.model_selection import cross_val_score\n",
    "from sklearn.ensemble import RandomForestRegressor\n",
    "from sklearn.metrics import mean_squared_log_error\n",
    "\n",
    "#Creating Machine learning Pipeline for deployment\n",
    "from sklearn.compose import ColumnTransformer\n",
    "from sklearn.impute import SimpleImputer\n",
    "from sklearn.pipeline import Pipeline\n",
    "from sklearn.preprocessing import OneHotEncoder, LabelEncoder\n",
    "\n",
    "# Feature Selection & Feature Engineering\n",
    "# from sklearn.\n",
    "\n",
    "#Hyperparameter Tuning\n",
    "from sklearn.model_selection import RandomizedSearchCV, GridSearchCV"
   ]
  },
  {
   "cell_type": "markdown",
   "id": "VvpmWZk8t-2i",
   "metadata": {
    "id": "VvpmWZk8t-2i"
   },
   "source": [
    "# Importing Training Data"
   ]
  },
  {
   "cell_type": "code",
   "execution_count": null,
   "id": "9337fa23-c92a-4161-9742-46832143f8fa",
   "metadata": {
    "id": "9337fa23-c92a-4161-9742-46832143f8fa"
   },
   "outputs": [],
   "source": [
    "# URL of the zip file\n",
    "zip_url = 'https://storage.googleapis.com/kagglesdsdata/competitions/3316/31070/Train.zip?GoogleAccessId=web-data@kaggle-161607.iam.gserviceaccount.com&Expires=1716873096&Signature=d%2F%2FVSWINnU0EyUFzDZ1nxlH0lbLWpdBLW0Y7uofGk386wren22IuV4nN0grD9DHPyA08TtXpQuSVCK7%2B6vj%2BW1ixMMTtn67z1f68ib4Z%2BZqniBlLPmTdrFetlGyYlof12gPBL%2B7CAfbMvg7s9Yv%2BCt5UWYEqKj4yz2UcJ7OO0AM80TlKs2B12dd0leFCB4Ud2DcpGwZW%2Fu%2Bdl6Hyr%2F0ws7aUQJP0%2BSC38DcgBLRlxPbhsreUZh10%2BemYLegwfGF8388eW%2BLLQh1Yk9J03%2FCuFkade5jaK1oZXLKnlt2PXkQ5uJ4AiTvGOAKEp5KyhwPvbPUnkgOSc0RqN8Eeg3EHtA%3D%3D&response-content-disposition=attachment%3B+filename%3DTrain.zip'\n",
    "# Download the zip file\n",
    "response = requests.get(zip_url)\n",
    "# Check if the request was successful\n",
    "if response.status_code == 200:\n",
    "    # Read the zip file content\n",
    "    with ZipFile(BytesIO(response.content)) as z:\n",
    "        # Extract the file names from the zip\n",
    "        file_list = z.namelist()\n",
    "\n",
    "        # Assuming there's only one CSV file in the zip archive\n",
    "        csv_filename = file_list[0]\n",
    "\n",
    "        # Read the CSV file into a DataFrame\n",
    "        with z.open(csv_filename) as csv_file:\n",
    "            df = pd.read_csv(csv_file, low_memory=False, parse_dates=['saledate'])\n",
    "else:\n",
    "    print(\"Failed to download the zip file\")"
   ]
  },
  {
   "cell_type": "code",
   "execution_count": null,
   "id": "RXzEAFyurE6b",
   "metadata": {
    "colab": {
     "base_uri": "https://localhost:8080/",
     "height": 342
    },
    "id": "RXzEAFyurE6b",
    "outputId": "ef1e402f-f579-4cb1-d5e5-dcf8c79c3946"
   },
   "outputs": [],
   "source": [
    "# Set the display format for floating-point numbers\n",
    "pd.options.display.float_format = '{:,.2f}'.format\n",
    "df.head()"
   ]
  },
  {
   "cell_type": "markdown",
   "id": "JEzYpG0MvdAX",
   "metadata": {
    "id": "JEzYpG0MvdAX"
   },
   "source": [
    "# Exploratory Data Analysis (EDA)"
   ]
  },
  {
   "cell_type": "code",
   "execution_count": null,
   "id": "6912f0b6",
   "metadata": {},
   "outputs": [],
   "source": [
    "df.info()"
   ]
  },
  {
   "cell_type": "markdown",
   "id": "5a7c779f-fb2e-491f-99e8-1d41e4bc0a59",
   "metadata": {},
   "source": [
    "## Numeric Attributes"
   ]
  },
  {
   "cell_type": "code",
   "execution_count": null,
   "id": "LSgNgy5Fvb_9",
   "metadata": {
    "colab": {
     "base_uri": "https://localhost:8080/",
     "height": 332
    },
    "editable": true,
    "id": "LSgNgy5Fvb_9",
    "outputId": "8f4cb97e-4b5e-4fb7-82bc-973d4c5a42e2",
    "slideshow": {
     "slide_type": ""
    },
    "tags": []
   },
   "outputs": [],
   "source": [
    "df.describe().T"
   ]
  },
  {
   "cell_type": "code",
   "execution_count": null,
   "id": "9f8a9747",
   "metadata": {},
   "outputs": [],
   "source": [
    "df.select_dtypes(['int', 'float']).isna().sum().sort_values(ascending=False)"
   ]
  },
  {
   "cell_type": "code",
   "execution_count": null,
   "id": "012c40e9",
   "metadata": {},
   "outputs": [],
   "source": [
    "cols_to_del = set()\n",
    "# Determining features that adds no information to the model\n",
    "for col in df.columns:\n",
    "  # Columns that have a different value per sample (Unique Identifiers)\n",
    "  if len(df[col]) == df[col].nunique():\n",
    "    cols_to_del.add(col)\n",
    "  # Columns that have the same value for all samples (Static Value)\n",
    "  elif df[col].nunique == 1:\n",
    "    cols_to_del.add(col)\n",
    "print(cols_to_del)"
   ]
  },
  {
   "cell_type": "markdown",
   "id": "5edea426-312e-40ab-a95d-7d241ba42f23",
   "metadata": {},
   "source": [
    "### Inspecting SalePrice (Target Column)"
   ]
  },
  {
   "cell_type": "code",
   "execution_count": null,
   "id": "ps_EVRTm7LwP",
   "metadata": {
    "colab": {
     "base_uri": "https://localhost:8080/",
     "height": 564
    },
    "id": "ps_EVRTm7LwP",
    "outputId": "3a619d15-2ead-4bd7-d57a-e8f9cd827a07"
   },
   "outputs": [],
   "source": [
    "# Create a figure and axis object\n",
    "fig, ax = plt.subplots(figsize=(12, 6))\n",
    "\n",
    "# Calculate statistics\n",
    "median_SalePrice = df['SalePrice'].median()\n",
    "mean_SalePrice = df['SalePrice'].mean()\n",
    "lower_bound = df['SalePrice'].quantile(0.025)\n",
    "upper_bound = df['SalePrice'].quantile(0.975)\n",
    "\n",
    "# Plot histogram\n",
    "ax = sns.histplot(data=df, x='SalePrice')\n",
    "ax.axvline(x=median_SalePrice, color='red', linestyle='-', label='Median')\n",
    "ax.axvline(x=mean_SalePrice, color='green', linestyle='-', label='Mean')\n",
    "ax.axvspan(lower_bound, upper_bound, alpha= 0.2, color='grey')\n",
    "\n",
    "# Set labels and title\n",
    "plt.xlabel('Sale Price')\n",
    "plt.ylabel('Frequency')\n",
    "plt.title('Distribution of SalePrice')\n",
    "\n",
    "# 95% confidence interval area \n",
    "ax.text(lower_bound, ax.get_ylim()[1]*0.9, f'Lower Bound\\n({lower_bound:,.0f})', ha='right', va='top', rotation=90)\n",
    "ax.text(median_SalePrice, ax.get_ylim()[1]*0.9, f'Median\\n({median_SalePrice:,.0f})', ha='center', va='top', rotation=90)\n",
    "ax.text(upper_bound, ax.get_ylim()[1]*0.9, f'Upper Bound\\n({upper_bound:,.0f})', ha='left', va='top', rotation=90)\n",
    "\n",
    "plt.legend()\n",
    "\n",
    "plt.show();"
   ]
  },
  {
   "cell_type": "markdown",
   "id": "abd923ad-2e5c-4e21-be87-496a080cebcd",
   "metadata": {},
   "source": [
    "### Inspecting MachineID"
   ]
  },
  {
   "cell_type": "code",
   "execution_count": null,
   "id": "b909a823-ae11-49fd-b629-89566d8f8cb3",
   "metadata": {},
   "outputs": [],
   "source": [
    "df.sort_values('MachineID').head(2).T"
   ]
  },
  {
   "cell_type": "code",
   "execution_count": null,
   "id": "257c581a",
   "metadata": {},
   "outputs": [],
   "source": [
    "possible_correlated_cols = ['MachineID', 'ModelID', 'fiModelDesc', 'fiBaseModel', 'fiSecondaryDesc', 'fiModelSeries', 'fiModelDescriptor', 'ProductSize', 'fiProductClassDesc', 'ProductGroup', 'ProductGroupDesc', 'Enclosure']\n",
    "cat_cols = df[possible_correlated_cols].select_dtypes('object').columns.tolist()\n",
    "\n",
    "# Compute associations between selected columns\n",
    "assoc = associations(df[possible_correlated_cols], nominal_columns=cat_cols, plot=False)\n",
    "\n",
    "# Extract the correlation matrix\n",
    "corr_matrix = assoc['corr']\n",
    "\n",
    "# Mask the upper triangle\n",
    "mask = np.triu(np.ones_like(corr_matrix, dtype=bool))\n",
    "\n",
    "# Set up the matplotlib figure\n",
    "plt.figure(figsize=(12, 8))\n",
    "\n",
    "# Plotting\n",
    "sns.heatmap(corr_matrix, mask=mask, annot=True, fmt=\".2f\", cmap='coolwarm', cbar_kws={\"shrink\": .8}, vmin=-1)\n",
    "plt.title('Correlation Matrix')\n",
    "plt.show()"
   ]
  },
  {
   "cell_type": "code",
   "execution_count": null,
   "id": "847ec00a-d8f2-4516-bfc9-49a00c96c0b1",
   "metadata": {},
   "outputs": [],
   "source": [
    "cols_to_del.add('MachineID')"
   ]
  },
  {
   "cell_type": "markdown",
   "id": "9e9bd688-41e2-4512-b7e9-36e707f152dd",
   "metadata": {},
   "source": [
    "### Inspecting datasource"
   ]
  },
  {
   "cell_type": "code",
   "execution_count": null,
   "id": "e0d36c49-936b-40af-aaff-ac4ad0f0225c",
   "metadata": {},
   "outputs": [],
   "source": [
    "df.datasource.value_counts(normalize=True).sort_values(ascending=False)"
   ]
  },
  {
   "cell_type": "code",
   "execution_count": null,
   "id": "7f46964f-fbee-4974-bbcd-3268393c3a57",
   "metadata": {},
   "outputs": [],
   "source": [
    "# Compacting the datasources into 3 category\n",
    "df.datasource = df.datasource.apply(lambda x: x if (x == 132) | (x == 136) else 'Other')"
   ]
  },
  {
   "cell_type": "code",
   "execution_count": null,
   "id": "8b988227-5c75-4320-bbbc-918f0aa46f0f",
   "metadata": {},
   "outputs": [],
   "source": [
    "# Change data type to category\n",
    "df.datasource = df.datasource.astype('category')"
   ]
  },
  {
   "cell_type": "markdown",
   "id": "b3e0ccab-840b-4a22-b4ad-5c4d9efcdba6",
   "metadata": {},
   "source": [
    "### Inspecting auctioneerID"
   ]
  },
  {
   "cell_type": "code",
   "execution_count": null,
   "id": "gGSJAcKgWnev",
   "metadata": {
    "colab": {
     "base_uri": "https://localhost:8080/"
    },
    "id": "gGSJAcKgWnev",
    "outputId": "6f1b8715-355a-4841-cce1-999f9c7f8a5d",
    "scrolled": true
   },
   "outputs": [],
   "source": [
    "# since auctioneerID has missing values, it should be further investigated prior to making any changes\n",
    "df.auctioneerID.unique()"
   ]
  },
  {
   "cell_type": "code",
   "execution_count": null,
   "id": "04ba550d-b99a-4a42-bc17-9dfbc30b26d0",
   "metadata": {
    "colab": {
     "base_uri": "https://localhost:8080/"
    },
    "id": "04ba550d-b99a-4a42-bc17-9dfbc30b26d0",
    "outputId": "232b05d5-4d4d-4bc9-e5e3-08da067573d8"
   },
   "outputs": [],
   "source": [
    "print(f\"Mode of Auctionner ID: {df.auctioneerID.mode()[0]}\")\n",
    "print(f\"Median of Auctioneer ID: {df.auctioneerID.median()}\")"
   ]
  },
  {
   "cell_type": "code",
   "execution_count": null,
   "id": "93ea0ec3-508a-4e70-bcc9-90ff6c6b728e",
   "metadata": {
    "colab": {
     "base_uri": "https://localhost:8080/"
    },
    "id": "93ea0ec3-508a-4e70-bcc9-90ff6c6b728e",
    "outputId": "7e73d0d8-4a32-4f03-f1fb-4f253d13e120",
    "scrolled": true
   },
   "outputs": [],
   "source": [
    "df.auctioneerID.value_counts(normalize=True, dropna=False).sort_values(ascending=False)"
   ]
  },
  {
   "cell_type": "code",
   "execution_count": null,
   "id": "sf91MYYFD55W",
   "metadata": {
    "colab": {
     "base_uri": "https://localhost:8080/",
     "height": 449
    },
    "id": "sf91MYYFD55W",
    "outputId": "5820f51d-f58d-401b-c07b-1d13405efacc"
   },
   "outputs": [],
   "source": [
    "sns.scatterplot(data=df, x='auctioneerID', y='SalePrice', alpha=0.1);"
   ]
  },
  {
   "cell_type": "code",
   "execution_count": null,
   "id": "843d8685-9369-4ab2-a44b-f231871e7e78",
   "metadata": {},
   "outputs": [],
   "source": [
    "# Step1: Check to see whether auctioneerID no. 99 is a form of missing value\n",
    "\n",
    "#first we set aside the actual missing values \n",
    "df_temp = df.dropna(subset='auctioneerID')\n",
    "\n",
    "mask = df_temp.auctioneerID == 99\n",
    "\n",
    "# Extracting data for each group\n",
    "id99 = df_temp[mask]['SalePrice']\n",
    "others = df_temp[~mask]['SalePrice']\n",
    "\n",
    "# Create a new DataFrame for boxplot and histplot\n",
    "boxplot_data = pd.DataFrame({\n",
    "    'SalePrice': pd.concat([id99, others]),\n",
    "    'Group': ['ID no. 99'] * len(id99) + ['Other IDs'] * len(others)\n",
    "})\n",
    "\n",
    "# Plotting\n",
    "fig, ax = plt.subplots(2, 1, figsize=(12, 8))\n",
    "\n",
    "# Histpgram\n",
    "sns.histplot(others, ax=ax[0], alpha=0.3, stat='density', color='r', label='Other IDs', kde= True)\n",
    "sns.histplot(id99, ax=ax[0], alpha=0.3, stat='density', color='b', label='ID no. 99', kde= True)\n",
    "ax[0].legend()\n",
    "ax[0].set_title('SalePrice Distribution')\n",
    "\n",
    "# Boxplot\n",
    "sns.boxplot(x='SalePrice', y='Group', data=boxplot_data, ax=ax[1], orient='h', showmeans=True)\n",
    "ax[1].set_title('Boxplot of SalePrice')\n",
    "ax[1].set_ylabel('')\n",
    "\n",
    "plt.tight_layout()\n",
    "plt.show()"
   ]
  },
  {
   "cell_type": "markdown",
   "id": "9bb30dc2-1e51-42eb-ae77-fc8aabe348b7",
   "metadata": {},
   "source": [
    "Although the mean of the two groups seem to be different, the histogram and boxplot of the two groups show a great overlap so it seems that there is no significant differnece between the mean of Sale Price in these two groups. However, to confirm our conclusion, we run the `Wilcoxon` test on these two groups. The reason we choose `Wilcoxon` over the two-sample `t-test` is that two assumptions of the `t-test` is not met here:\n",
    "1. Normality\n",
    "2. Homoscedasticity\n",
    "\n",
    "Our Hypotheses are as follows:\n",
    "\n",
    "- H0: $μ_{1}$ = $μ_{2}$\n",
    "- H1: $μ_{1}$ ≠ $μ_{2}$"
   ]
  },
  {
   "cell_type": "code",
   "execution_count": null,
   "id": "eebdb003-26f2-400d-b35d-d9b42eeab989",
   "metadata": {},
   "outputs": [],
   "source": [
    "# Confirming our conclusion using statistical analysis (Wilcoxon test)\n",
    "u_stat, p_val_mw = mannwhitneyu(others, id99, alternative='two-sided')\n",
    "if p_val_mw < 0.05:\n",
    "    print('H0 is rejected. AuctioneerID 99 should be treated as a missing value.')\n",
    "else:\n",
    "    print('There is no significant difference and auctioneerID 99 should be treated as a valid id.')"
   ]
  },
  {
   "cell_type": "markdown",
   "id": "778b0f57-26e3-41e0-b5a3-89ac65a348f4",
   "metadata": {},
   "source": [
    "Well that's contradictory to what we expected. We calculate the effect size (e.g., Cohen’s d) to understand the magnitude of the difference between the two groups. Even a small p-value might correspond to a negligible effect size, especially in large datasets.\n",
    "Cohen's d is a measure of effect size used to indicate the standardized difference between two means. The interpretation of Cohen's d is somewhat subjective, but commonly used thresholds are:\n",
    "\n",
    "- 0.2: Small effect\n",
    "- 0.5: Medium effect\n",
    "- 0.8: Large effect"
   ]
  },
  {
   "cell_type": "code",
   "execution_count": null,
   "id": "ca28cd48-ebac-415c-ab7f-4325ef495681",
   "metadata": {},
   "outputs": [],
   "source": [
    "# Calculate Cohen's d\n",
    "def cohen_d(x, y):\n",
    "    nx = len(x)\n",
    "    ny = len(y)\n",
    "    dof = nx + ny - 2\n",
    "    pooled_std = np.sqrt(((nx - 1) * np.var(x, ddof=1) + (ny - 1) * np.var(y, ddof=1)) / dof)\n",
    "    return (np.mean(x) - np.mean(y)) / pooled_std\n",
    "\n",
    "effect_size = cohen_d(others, id99)\n",
    "effect_size"
   ]
  },
  {
   "cell_type": "markdown",
   "id": "a6f5f57f-fca3-4f4a-80bd-a3d6ae773dc5",
   "metadata": {},
   "source": [
    "Given the effect size of 0.184:\n",
    "1. **Small Effect:** This is close to the threshold of 0.2, which means the difference between the group with auctioneerID 99 and other IDs is small.\n",
    "2. **Practical Implication:** Even though the wilcoxon indicates a statistically significant difference (p-value < 0.05), the small effect size suggests that the practical difference between the two groups is minor.\n",
    "\n",
    "Thus, we decide to treat auctioneer id 99 as a valid id. However, one can run a sensetivity analysis on either case to see which results in a better prediction performance."
   ]
  },
  {
   "cell_type": "code",
   "execution_count": null,
   "id": "86301572-a5e8-40a8-935e-05ed954a6576",
   "metadata": {},
   "outputs": [],
   "source": [
    "# Step2: Check to see which type of missing value are we dealing with in auctioneerID\n",
    "mask = df.auctioneerID.isna()\n",
    "\n",
    "# Extracting data\n",
    "mask = df.auctioneerID.isna()\n",
    "MV = df[mask]['SalePrice']\n",
    "WMV = df[~mask]['SalePrice']\n",
    "\n",
    "# Create a new DataFrame for boxplot and histplot\n",
    "boxplot_data = pd.DataFrame({'SalePrice': pd.concat([MV, WMV]),\n",
    "                            'Labels':['With MV']*len(MV)+['Without MV']*len(WMV)})\n",
    "\n",
    "# Plotting\n",
    "fig, ax = plt.subplots(2, 1, figsize=(12, 8))\n",
    "\n",
    "# Histogram\n",
    "sns.histplot(MV, label='With MV', stat='density', color='red', kde=True, alpha= 0.3, ax=ax[0])\n",
    "sns.histplot(WMV, label='Without MV', stat='density', color='blue', kde=True, alpha= 0.3, ax=ax[0])\n",
    "ax[0].legend()\n",
    "ax[0].set_title('SalePrice Distribution')\n",
    "\n",
    "# Boxplots\n",
    "sns.boxplot(x= 'SalePrice', y='Labels', data=boxplot_data, ax=ax[1], orient='h', showmeans=True)\n",
    "ax[1].set_title('Boxplot of SalePrice')\n",
    "ax[1].set_ylabel('')\n",
    "\n",
    "plt.tight_layout()\n",
    "plt.show()"
   ]
  },
  {
   "cell_type": "markdown",
   "id": "bed1a92e-a87a-4705-b3d1-5cda8e7f8097",
   "metadata": {},
   "source": [
    "Same as the previous one, the histogram and the boxplot of the two groups show a great overlap so it seems that there is no significant differnece between the mean of Sale Price in these two groups. However, to confirm our conclusion, we run the `Wilcoxon` test on these two groups. The reason we choose `Wilcoxon` over the two-sample `t-test` is that two assumptions of the `t-test` is not met here:\n",
    "1. Normality\n",
    "2. Homoscedasticity\n",
    "\n",
    "Our Hypotheses are as follows:\n",
    "\n",
    "- H0: $μ_{1}$ = $μ_{2}$\n",
    "- H1: $μ_{1}$ ≠ $μ_{2}$"
   ]
  },
  {
   "cell_type": "code",
   "execution_count": null,
   "id": "b8f8072a-1e8e-410e-bfc5-77dc28a8f9cb",
   "metadata": {},
   "outputs": [],
   "source": [
    "u_stat, p_val_mw = mannwhitneyu(WMV, MV, alternative='two-sided')\n",
    "\n",
    "if p_val_mw < 0.05:\n",
    "    print('H0 is rejected. Missing values are of type MNAR and thus should be discarded.')\n",
    "else:\n",
    "    print('There is no significant difference and the missing values are of type MCAR and should be imputed.')"
   ]
  },
  {
   "cell_type": "markdown",
   "id": "be5ba47a-f5f6-416a-afd6-91d5e0beb13e",
   "metadata": {},
   "source": [
    "We are experiencing the same situation as above, so once again we calculate the effect size of this difference:"
   ]
  },
  {
   "cell_type": "code",
   "execution_count": null,
   "id": "d49c601c-a7ca-47c7-8294-75dea4e1da67",
   "metadata": {},
   "outputs": [],
   "source": [
    "cohen_d(WMV, MV)"
   ]
  },
  {
   "cell_type": "markdown",
   "id": "2ed1f6b2-3a40-4b07-84c5-fe6bfde53c71",
   "metadata": {},
   "source": [
    "Given the effect size of 0.067:\n",
    "1. **Small Effect:** The difference between the group with missing values and the rest is small.\n",
    "2. **Practical Implication:** Even though the wilcoxon indicates a statistically significant difference (p-value < 0.05), the small effect size suggests that the practical difference between the two groups is minor.\n",
    "\n",
    "Thus, since the nature of the missing values are of type MCAR, we decide to keep them as is; that's because considering the value_counts of IDs and the nominal nature of this feature, apart from IDs ranging from 1-3, we can mark the rest as `Other`s without imputing the missing values and introducing bias."
   ]
  },
  {
   "cell_type": "code",
   "execution_count": null,
   "id": "f65f565d-71ca-4fc2-a7d6-f021892316d6",
   "metadata": {},
   "outputs": [],
   "source": [
    "# Replacing values other than 1-3 with Other\n",
    "df.auctioneerID = df.auctioneerID.apply(lambda x: x if x in range(1, 4) else 'Other')"
   ]
  },
  {
   "cell_type": "code",
   "execution_count": null,
   "id": "cdd58dda-4453-433b-88d2-8bd3c1be43e7",
   "metadata": {},
   "outputs": [],
   "source": [
    "# Changing datatype to Category\n",
    "df.auctioneerID = df.auctioneerID.astype('category')"
   ]
  },
  {
   "cell_type": "markdown",
   "id": "9611a77b-3daa-439d-9ba4-96b2d9c95061",
   "metadata": {},
   "source": [
    "### Inspecting YearMade"
   ]
  },
  {
   "cell_type": "code",
   "execution_count": null,
   "id": "2db4d8b1-0171-46c2-902e-f6495223e43a",
   "metadata": {},
   "outputs": [],
   "source": [
    "df.YearMade.describe()"
   ]
  },
  {
   "cell_type": "code",
   "execution_count": null,
   "id": "9a2d673c-ea72-4ad4-8615-efad9f9241c1",
   "metadata": {},
   "outputs": [],
   "source": [
    "# Turning YearMade = 1000 into NAN values\n",
    "df.loc[:, 'YearMade']= df['YearMade'].apply(lambda x: np.nan if x == 1000 else x)"
   ]
  },
  {
   "cell_type": "code",
   "execution_count": null,
   "id": "ce572aff-3de5-4f1c-8fc6-7fd9afefcded",
   "metadata": {},
   "outputs": [],
   "source": [
    "df[df.YearMade>2011]"
   ]
  },
  {
   "cell_type": "code",
   "execution_count": null,
   "id": "6ddcb7ec-730d-48ab-b2c1-f714fa19dd15",
   "metadata": {},
   "outputs": [],
   "source": [
    "# training data are supposed to be up to the end of the 2011, so a YearMade beyound that is not possible\n",
    "df['YearMade'] = df['YearMade'].apply(lambda x: np.nan if x > 2011 else x)"
   ]
  },
  {
   "cell_type": "code",
   "execution_count": null,
   "id": "f33e5fdd-1493-409d-9444-317496529da2",
   "metadata": {},
   "outputs": [],
   "source": [
    "df.YearMade.isna().sum()"
   ]
  },
  {
   "cell_type": "code",
   "execution_count": null,
   "id": "e35b3587-514c-4ba5-80a3-9dfb7a439d1a",
   "metadata": {},
   "outputs": [],
   "source": [
    "# Checking to see if the missing values in the YearMade are MCAR, MAR, or MNAR\n",
    "\n",
    "# Extracting data\n",
    "mask = df.YearMade.isna()\n",
    "MV = df[mask]['SalePrice']\n",
    "WMV = df[~mask]['SalePrice']\n",
    "\n",
    "# Create a new DataFrame for boxplot and histplot\n",
    "boxplot_data = pd.DataFrame({'SalePrice': pd.concat([MV, WMV]),\n",
    "                             'Labels': ['Missing']*len(MV)+['Available']*len(WMV)})\n",
    "\n",
    "# Plotting\n",
    "fig, ax = plt.subplots(2, 1, figsize=(12, 8))\n",
    "\n",
    "# Histogram\n",
    "sns.histplot(MV, label='Year Missing', kde=True, stat='density', color='red', ax=ax[0], alpha= 0.3)\n",
    "sns.histplot(WMV, label='Year Available', kde=True, stat='density', color='blue', ax=ax[0], alpha=0.3)\n",
    "ax[0].set_title('SalePrice Distribution per YearMade Status')\n",
    "ax[0].legend()\n",
    "\n",
    "# Boxplot\n",
    "sns.boxplot(x='SalePrice', y='Labels', data=boxplot_data, orient='h', showmeans=True)\n",
    "ax[1].set_title('SalePrice Boxplot per YearMade Status')\n",
    "ax[1].set_ylabel('')\n",
    "\n",
    "plt.tight_layout()\n",
    "plt.show();"
   ]
  },
  {
   "cell_type": "markdown",
   "id": "4cfdee0c-08d0-441d-813f-ffca9665c154",
   "metadata": {},
   "source": [
    "While analysing the dataset, we suspected whether Machines with the same `ModelID` number are built around the same Year. If so, we can leverage this finding to impute our missing `YearMade` values with the median of those years. Thus, We need to perform two actions now:\n",
    "1. Confirm our hypothesis throughout the whole dataset\n",
    "2. Perform Imputation"
   ]
  },
  {
   "cell_type": "code",
   "execution_count": null,
   "id": "79c67b73-48c6-424a-8638-0f69edcfc942",
   "metadata": {},
   "outputs": [],
   "source": [
    "# Checking if our hypothesis is correct by calculating the min, max, and range of YearMade for each ModelID\n",
    "model_year_stats = df.groupby(by='ModelID')['YearMade'].agg(['max', 'min', 'median', 'mean', pd.Series.mode]).reset_index()\n",
    "model_year_stats['range'] = model_year_stats['max'] - model_year_stats['min']\n",
    "model_year_stats['mean-median'] = model_year_stats['median'] - model_year_stats['mean']\n",
    "\n",
    "# Set a threshold for the range (e.g., 5 years)\n",
    "threshold = 5\n",
    "\n",
    "model_year_stats[model_year_stats['mean-median'] > threshold].sort_values('mean-median')"
   ]
  },
  {
   "cell_type": "markdown",
   "id": "661f7d7f-9abd-4172-974f-44d6fa745004",
   "metadata": {},
   "source": [
    "To impute the missing values in the `YearMade` column based on the median `YearMade` for each `ModelID`, we take the following steps:\n",
    "1. Group by ModelID to calculate the median YearMade for each group.\n",
    "2. Create a mapping from ModelID to its corresponding median YearMade.\n",
    "3. Apply this mapping to fill in the missing values in the YearMade column.\n",
    "4. Compare the Histogram of `YearMade` before and after the imputation to make sure the distribution of data has not changed significantly."
   ]
  },
  {
   "cell_type": "code",
   "execution_count": null,
   "id": "57ec05eb-7b3e-48ad-b794-9bdc64510466",
   "metadata": {},
   "outputs": [],
   "source": [
    "# Step 1: Group by ModelID and calculate the median YearMade for each group\n",
    "model_year_medians = df.groupby(['ModelID'])['YearMade'].median()\n",
    "\n",
    "# Step 2: Create a mapping from ModelID to its corresponding median YearMade\n",
    "model_year_mapping = model_year_medians.to_dict()\n",
    "\n",
    "# Step 3: Apply the mapping to fill in the missing values in the YearMade column\n",
    "temp_year = df.apply(lambda row: model_year_mapping[row['ModelID']] if pd.isna(row['YearMade']) else row['YearMade'], axis=1)\n",
    "temp_year = temp_year.fillna(np.median(temp_year.dropna()))\n",
    "\n",
    "# Step 4: Plot both distributions together for comparison\n",
    "fig, ax = plt.subplots(figsize=(12, 6))\n",
    "sns.histplot(x='YearMade', data=df, kde=True, bins= 30, color='green', alpha=0.3, label='Before Imputation')\n",
    "sns.histplot(temp_year, kde=True,  bins= 30, color='blue', alpha=0.3, label='After Imputation')\n",
    "plt.xlabel('YearMade')\n",
    "plt.ylabel('Frequency')\n",
    "plt.legend()\n",
    "plt.title('Distribution of YearMade Before and After Imputation')\n",
    "plt.show()"
   ]
  },
  {
   "cell_type": "code",
   "execution_count": null,
   "id": "e2f011bb-285c-4b13-9c82-a2e68d80f711",
   "metadata": {},
   "outputs": [],
   "source": [
    "# Replacing the imputed values\n",
    "df['YearMade'] = temp_year"
   ]
  },
  {
   "cell_type": "markdown",
   "id": "d8b4df61-d138-4ae0-b75b-2844879c9528",
   "metadata": {},
   "source": [
    "### Inspecting MachineHoursCurrentMeter"
   ]
  },
  {
   "cell_type": "code",
   "execution_count": null,
   "id": "76fdc4e9-2d65-45ab-bb1d-3b93675fc8cb",
   "metadata": {},
   "outputs": [],
   "source": [
    "# First turning all 0s to null according to the data dictionary of the dataset\n",
    "df['MachineHoursCurrentMeter'] = df['MachineHoursCurrentMeter'].replace(0, np.nan)"
   ]
  },
  {
   "cell_type": "code",
   "execution_count": null,
   "id": "9882d742-49c7-4e6a-b4d4-eaee60e81a69",
   "metadata": {},
   "outputs": [],
   "source": [
    "df['MachineHoursCurrentMeter'].describe()"
   ]
  },
  {
   "cell_type": "code",
   "execution_count": null,
   "id": "5d4f57c9-aa85-40ff-adbd-8f599a2df8f0",
   "metadata": {},
   "outputs": [],
   "source": [
    "# Checking the Outliers\n",
    "df_temp = df[[\"MachineHoursCurrentMeter\", \"YearMade\"]].copy()\n",
    "\n",
    "df_temp[\"ReportDate\"] = 2012\n",
    "df_temp[\"24h\"] = 365 * 24 * (df_temp[\"ReportDate\"] - df_temp[\"YearMade\"])\n",
    "df_temp[\"Suspicious_MHCM\"] = df_temp[\"MachineHoursCurrentMeter\"]>df_temp[\"24h\"]\n",
    "\n",
    "# Identifying records that state the machine has worked more than 24h per day during their lifespan\n",
    "MHCM_outliers = df_temp[df_temp[\"Suspicious_MHCM\"] == True].sort_values(['YearMade']).index.tolist()\n",
    "\n",
    "# Replacing with NAN values\n",
    "df.loc[MHCM_outliers, 'MachineHoursCurrentMeter'] = np.nan"
   ]
  },
  {
   "cell_type": "code",
   "execution_count": null,
   "id": "1f8d576b-6437-404d-b3e8-721e676a7bad",
   "metadata": {},
   "outputs": [],
   "source": [
    "df.MachineHoursCurrentMeter.describe()"
   ]
  },
  {
   "cell_type": "markdown",
   "id": "669456fe-5596-4a16-9151-64aaade710a4",
   "metadata": {},
   "source": [
    "To impute the missing values in the `MachineHoursCurrentMeter` column based on the median value of `MachineHoursCurrentMeter` grouped by `ModelID` and `YearMade`, we take the following steps:\n",
    "\n",
    "1. Group the data by ModelID and YearMade to calculate the median MachineHoursCurrentMeter for each group.\n",
    "2. Create a mapping from the combination of ModelID and YearMade to their corresponding median MachineHoursCurrentMeter.\n",
    "3. Apply this mapping to fill in the missing values in the MachineHoursCurrentMeter column.\n",
    "4. Compare the Histogram of MachineHoursCurrentMeter before and after the imputation to make sure the distribution of data has not changed significantly."
   ]
  },
  {
   "cell_type": "code",
   "execution_count": null,
   "id": "cf028bbf-060a-4bfa-affd-b6bdaeac6f5b",
   "metadata": {},
   "outputs": [],
   "source": [
    "# Step 1: Group by ModelID and YearMade and calculate the median MachineHoursCurrentMeter for each group\n",
    "overall_median_hours = df['MachineHoursCurrentMeter'].median()\n",
    "grouped = df.groupby(['ModelID', 'YearMade'])['MachineHoursCurrentMeter'].median().reset_index()\n",
    "grouped = grouped.dropna(subset=['MachineHoursCurrentMeter'])\n",
    "\n",
    "# Step 2: Create a dictionary mapping from (ModelID, YearMade) to median MachineHoursCurrentMeter\n",
    "median_mapping = grouped.set_index(['ModelID', 'YearMade'])['MachineHoursCurrentMeter'].to_dict()\n",
    "\n",
    "# Step 3: Define a function to fill missing values using the mapping\n",
    "def impute_machine_hours(row):\n",
    "    if pd.isna(row['MachineHoursCurrentMeter']):\n",
    "        return median_mapping.get((row['ModelID'], row['YearMade']), overall_median_hours)\n",
    "    else:\n",
    "        return row['MachineHoursCurrentMeter']\n",
    "# Apply the function to the DataFrame\n",
    "machine_hour_temp = df.apply(impute_machine_hours, axis=1)\n",
    "\n",
    "# Step 4: Plot both distributions together for comparison\n",
    "fig, ax = plt.subplots(figsize=(12, 6))\n",
    "sns.histplot(x='MachineHoursCurrentMeter', data=df, stat='density', kde=True, bins= 30, color='green', alpha=0.3, label='Before Imputation')\n",
    "sns.histplot(machine_hour_temp, stat='density', kde=True,  bins= 30, color='blue', alpha=0.3, label='After Imputation')\n",
    "plt.xlabel('MachineHoursCurrentMeter')\n",
    "plt.ylabel('Density')\n",
    "plt.legend()\n",
    "plt.title('Distribution of MachineHoursCurrentMeter Before and After Imputation')\n",
    "plt.show()"
   ]
  },
  {
   "cell_type": "code",
   "execution_count": null,
   "id": "b6cc20f8-0d9d-45b4-916e-2bae525c5e1c",
   "metadata": {},
   "outputs": [],
   "source": [
    "df.MachineHoursCurrentMeter = machine_hour_temp"
   ]
  },
  {
   "cell_type": "markdown",
   "id": "b4a5f428-c39a-460e-9795-4f80c451f00d",
   "metadata": {},
   "source": [
    "### Inspecting saledate"
   ]
  },
  {
   "cell_type": "code",
   "execution_count": null,
   "id": "0345fe9b-e5ae-47b1-b2ad-d354237962a7",
   "metadata": {},
   "outputs": [],
   "source": [
    "# Generating Year & Month from saledate\n",
    "df['SaleYear'] = df.saledate.dt.year\n",
    "df['SaleMonth'] = df.saledate.dt.month"
   ]
  },
  {
   "cell_type": "code",
   "execution_count": null,
   "id": "c2f1db2d-caa1-4d80-af32-c7e3bc8f6f1e",
   "metadata": {},
   "outputs": [],
   "source": [
    "df.head()"
   ]
  },
  {
   "cell_type": "code",
   "execution_count": null,
   "id": "6af306e7-fbaf-4690-83c6-25dfb50d8b13",
   "metadata": {},
   "outputs": [],
   "source": [
    "cols_to_del.add('saledate')"
   ]
  },
  {
   "cell_type": "markdown",
   "id": "afb692df-84fe-42f2-bbee-5b13a8f8748f",
   "metadata": {},
   "source": [
    "## Categorical Columns"
   ]
  },
  {
   "cell_type": "code",
   "execution_count": null,
   "id": "2a7898cd-8388-4809-ac72-8fafe84dfeee",
   "metadata": {},
   "outputs": [],
   "source": [
    "cat_cols = df.select_dtypes('object').copy()\n",
    "cat_cols.describe().T"
   ]
  },
  {
   "cell_type": "code",
   "execution_count": null,
   "id": "ddfca10d-ad41-4db9-a965-158f1073b74c",
   "metadata": {},
   "outputs": [],
   "source": [
    "cat_cols.isna().sum().sort_values(ascending=False)"
   ]
  },
  {
   "cell_type": "markdown",
   "id": "87585bcc-4520-4ef2-bbfc-a5a5118958b0",
   "metadata": {},
   "source": [
    "### Inspecting 'fiModelDesc', 'fiBaseModel' , 'fiSecondaryDesc' , 'fiModelSeries' , 'fiModelDescriptor'"
   ]
  },
  {
   "cell_type": "code",
   "execution_count": null,
   "id": "abf9ea72-d6f7-4dd4-8416-87f25bcc9d75",
   "metadata": {},
   "outputs": [],
   "source": [
    "cat_cols[['fiModelDesc', 'fiBaseModel' , 'fiSecondaryDesc' , 'fiModelSeries' , 'fiModelDescriptor']].iloc[3:7,:]"
   ]
  },
  {
   "cell_type": "code",
   "execution_count": null,
   "id": "8515c688-30c5-4310-b889-69c4b3a9a6c6",
   "metadata": {},
   "outputs": [],
   "source": [
    "# Check the variety of the rest of the columns according to the ModelID\n",
    "df.groupby(['ModelID'])[['fiBaseModel' , 'fiSecondaryDesc' , 'fiModelSeries' , 'fiModelDescriptor']].nunique()"
   ]
  },
  {
   "cell_type": "code",
   "execution_count": null,
   "id": "1c3f2285-d011-4052-896c-505690ef49ef",
   "metadata": {},
   "outputs": [],
   "source": [
    "cols_to_del.update(['fiModelDesc', 'fiBaseModel' , 'fiSecondaryDesc' , 'fiModelSeries' , 'fiModelDescriptor'])"
   ]
  },
  {
   "cell_type": "markdown",
   "id": "3919b584-b842-492b-b1e8-4518a2d9e343",
   "metadata": {},
   "source": [
    "### Inspecting UsageBand"
   ]
  },
  {
   "cell_type": "code",
   "execution_count": null,
   "id": "5da7f55c-8f91-455f-a086-36f521880d0e",
   "metadata": {},
   "outputs": [],
   "source": [
    "df_temp = df[['ModelID', 'YearMade', 'MachineHoursCurrentMeter' , 'UsageBand']].sort_values(['ModelID'])\n",
    "df_temp.head()"
   ]
  },
  {
   "cell_type": "code",
   "execution_count": null,
   "id": "95bd2539-c354-4c72-8c18-28261280eacf",
   "metadata": {},
   "outputs": [],
   "source": [
    "sns.scatterplot(x=df.MachineHoursCurrentMeter, y=df.YearMade, hue=df.UsageBand);"
   ]
  },
  {
   "cell_type": "markdown",
   "id": "6c7b6920-c35a-4dfe-9001-f9f3f0684466",
   "metadata": {},
   "source": [
    "Considering the logic behind how the UsageBand is determined, regardless of high number of missing values we decide to impute them through classification"
   ]
  },
  {
   "cell_type": "code",
   "execution_count": null,
   "id": "5e709891-2238-4194-b277-3325818e6461",
   "metadata": {},
   "outputs": [],
   "source": [
    "# Separating data into train & test\n",
    "mask = df_temp.UsageBand.isna()\n",
    "train_set = df_temp[~mask]\n",
    "test_set = df_temp[mask]\n",
    "\n",
    "X_train = train_set.drop('UsageBand', axis=1)\n",
    "y_train = train_set['UsageBand']\n",
    "X_test = test_set.drop('UsageBand', axis=1)\n",
    "y_test = test_set['UsageBand']\n",
    "\n",
    "# Standardized data\n",
    "scaler= StandardScaler()\n",
    "X_train_scaled = scaler.fit_transform(X_train)\n",
    "X_test_scaled = scaler.transform(X_test)\n",
    "\n",
    "# Train & evaluate the model on training data\n",
    "knn = KNeighborsClassifier(n_neighbors=3)\n",
    "cross_val_score(knn, X_train_scaled, y_train, cv=3)"
   ]
  },
  {
   "cell_type": "code",
   "execution_count": null,
   "id": "6c027bf1-8ac1-4724-aede-52d17c6a2ed0",
   "metadata": {},
   "outputs": [],
   "source": [
    "# Predicting UsageBand\n",
    "knn.fit(X_train_scaled, y_train)\n",
    "y_pred = knn.predict(X_test_scaled)\n",
    "y_pred"
   ]
  },
  {
   "cell_type": "code",
   "execution_count": null,
   "id": "dd035324-fdcf-4486-aa74-42ac534167a4",
   "metadata": {},
   "outputs": [],
   "source": [
    "# Replacing missing values with predicted values\n",
    "df.loc[df.UsageBand.isna(), 'UsageBand'] = y_pred"
   ]
  },
  {
   "cell_type": "code",
   "execution_count": null,
   "id": "db8ef938-31c7-440f-8e62-bc6c7c81a7b2",
   "metadata": {},
   "outputs": [],
   "source": [
    "ordinal_mapping = {'Low': 3, 'Medium': 2, 'High': 1}\n",
    "\n",
    "# Encode the labels using the mapping\n",
    "df['UsageBand'] = df['UsageBand'].map(ordinal_mapping)"
   ]
  },
  {
   "cell_type": "markdown",
   "id": "926b7acf-7755-4573-9f46-9ae1e458bf72",
   "metadata": {},
   "source": [
    "### Inspecting ProductGroup, ProductGroupDesc, fiProductClassDesc, & ProductSize"
   ]
  },
  {
   "cell_type": "code",
   "execution_count": null,
   "id": "2108c259-d991-46ad-95de-03215351a67f",
   "metadata": {},
   "outputs": [],
   "source": [
    "df.ProductGroupDesc.unique()"
   ]
  },
  {
   "cell_type": "code",
   "execution_count": null,
   "id": "c13690a9-ada6-433a-a897-e07f3f6bc3e8",
   "metadata": {},
   "outputs": [],
   "source": [
    "df.ProductGroup.unique()"
   ]
  },
  {
   "cell_type": "markdown",
   "id": "580458d1-cf8f-46fb-ae28-5bea5ced983d",
   "metadata": {},
   "source": [
    "#### Product Group\n",
    "There are 6 types of Bulldozers in this dataset:\n",
    "1. **Wheel Loader:** This machine has large wheels and is used for scooping and transporting materials. It features a front-mounted bucket.\n",
    "2. **Skid Steer Loaders:** These are small, versatile loaders with lift arms that can attach to various tools. They are known for their maneuverability and compact size.\n",
    "3. **Track Excavators:** Also known simply as excavators, these machines have tracks for movement and a large arm with a bucket for digging and moving earth.\n",
    "4. **Backhoe Loaders:** These machines combine a loader on the front and a backhoe on the back, making them ersatile for various digging and loading tasks.\n",
    "5. **Track Type Tractors:** Commonly referred to as bulldozers, these are powerful machines with large tracks and a wide blade for pushing earth.\n",
    "6. **Motor Graders:** These machines have a long blade used for grading surfaces, often used in road construction and maintenance.\n",
    "\n",
    "There are no missing values in either `ProductGroupDesc` or `ProductGroup` and since ProductGroup is the abbreviate version of ProductGroupDesc, we keep `ProductGroup` and discard ProductGroupDesc."
   ]
  },
  {
   "cell_type": "code",
   "execution_count": null,
   "id": "c30f7f1a-9b72-4e82-9768-4d1321df07a0",
   "metadata": {},
   "outputs": [],
   "source": [
    "cols_to_del.add('ProductGroupDesc')"
   ]
  },
  {
   "cell_type": "markdown",
   "id": "3ed604eb-250d-4e37-b1e3-574b055f42ee",
   "metadata": {},
   "source": [
    "#### fiProductClassDesc"
   ]
  },
  {
   "cell_type": "code",
   "execution_count": null,
   "id": "9f314dcb-d5f3-4787-9838-03612de62c87",
   "metadata": {},
   "outputs": [],
   "source": [
    "df.fiProductClassDesc.head()"
   ]
  },
  {
   "cell_type": "markdown",
   "id": "cd7556ed-6d4f-4d29-949a-1a172c0d2d91",
   "metadata": {},
   "source": [
    "General Size Categories Based on Horsepower and Operating Capacity\n",
    "\n",
    "**Horsepower (HP) Ranges:**\n",
    "- **Compact:** 0 to 40 HP\n",
    "- **Mini:** 40 to 60 HP\n",
    "- **Small:** 60 to 100 HP\n",
    "- **Medium:** 100 to 200 HP\n",
    "- **Large:** 200 to 500 HP\n",
    "- **Very Large:** 500+ HP\n",
    "\n",
    "**Operating Capacity (Weight) Ranges:**\n",
    "- **Compact:** 0 to 701 lbs\n",
    "- **Mini:** 701 to 1251 lbs\n",
    "- **Small:** 1251 to 1751 lbs\n",
    "- **Medium:** 1751 to 2701 lbs\n",
    "- **Large:** 2701+ lbs\n",
    "\n",
    "**Metric Tons:**\n",
    "- **Compact:** 0 to 2 metric tons\n",
    "- **Mini:** 2 to 4 metric tons\n",
    "- **Small:** 4 to 8 metric tons\n",
    "- **Medium:** 8 to 20 metric tons\n",
    "- **Large:** 20 to 50 metric tons\n",
    "- **Very Large:** 50+ metric tons\n",
    "\n",
    "**Steps:**\n",
    "1. Extracting the configuration data"
   ]
  },
  {
   "cell_type": "code",
   "execution_count": null,
   "id": "be506ff7-0fb0-4bc1-a7cc-4e09b861cac1",
   "metadata": {},
   "outputs": [],
   "source": [
    "# Function to extract numbers and specific text patterns from text\n",
    "def extract_numbers(text):\n",
    "    # Use regular expression to find all numeric values\n",
    "    numbers = re.findall(r'\\d+\\.?\\d*', text)\n",
    "    # Convert the extracted strings to int\n",
    "    numbers = [float(num) for num in numbers]\n",
    "        \n",
    "    # Define specific text patterns to search for\n",
    "    specific_texts = ['Horsepower', 'Metric Tons', 'Operating Capacity', 'Digging Depth']\n",
    "    # Use regular expression to find specific text patterns\n",
    "    found_texts = [pattern for pattern in specific_texts if re.search(pattern, text, re.IGNORECASE)]\n",
    "    return numbers + found_texts\n",
    "\n",
    "df['config'] = df['fiProductClassDesc'].apply(extract_numbers)"
   ]
  },
  {
   "cell_type": "code",
   "execution_count": null,
   "id": "a43b4c3f-c99e-40cd-a92d-5ff9ec9d94e8",
   "metadata": {},
   "outputs": [],
   "source": [
    "df.config = df.config.apply(lambda x: np.nan if len(x) == 0 else x)"
   ]
  },
  {
   "cell_type": "code",
   "execution_count": null,
   "id": "b8ed1510-1d68-44fa-ba9f-4c5266490b8a",
   "metadata": {},
   "outputs": [],
   "source": [
    "cols_to_del.add('fiProductClassDesc')"
   ]
  },
  {
   "cell_type": "markdown",
   "id": "ae24788d-70e6-4d9e-8310-287f6b182c01",
   "metadata": {},
   "source": [
    "#### ProductSize\n",
    "- **Wheel Loaders**:\r\n",
    "  - **Compact**: these are small, highly maneuverable loaders used in tight spaces and smaller projects*\r\n",
    "    - **Horsepower**: Up to 40 \n",
    "    - ** **Operating Capacy*** **Up to 2000 s**\r\n",
    "    - **Metric Tons: **Up to 1on**\r\n",
    "  - **Smal HP; used for light to medium-duty sks.*\r\n",
    "    - **Horsepower**: 40-100 HP\r\n",
    "    - **Operating Capacy**: **2000-50 lbs**\r\n",
    "    -  *Metric ns**: **2 tons**\r\n",
    "  - **M-200 HP; versatile machines used in a variety of appcations.*\r\n",
    "    - **Horsepower**: 100-200 HP\r\n",
    "    - **Operating Cacity**: **50010000 lbs**\r\n",
    "    - **Metc Tons****2-5 tons**\r\n",
    "  *200-350 HP; used for heavy-duty tasks in constructi and mining.*\r\n",
    "    - **Horsepower**: 200-350 HP\r\n",
    "    - **Operati Capacity**: **000-20000 lbs**\r\n",
    "    - *etric Ton*: **5-10 tons**\r\n",
    "  -*: *Over 350 HP; used in large-scale mining and hvy construction.*\r\n",
    "    - **Horsepower**: Over 350 HP\r\n",
    "    - **Opeting Capacy**: **20000+ lbs**\r\n",
    "    **Metrio- **: **10+ tons**\r\n",
    "\r\n",
    "- **Skid Steer Loadermpact**: *Under 40 HP; designed for light-duty tasks and maneuverabity in confined spaces.*\r\n",
    "    - **Horsepower**: Up to 40 HP\r\n",
    "    -*Operating Capity**: **Up to 1500 lbs*\n",
    "    - **Metricons**: **Up to 0  - **Small**: *40-100 HP; more powerfulstill highly maneuverable.*\r\n",
    "    - **Horsepower**: 40-100 HP\r\n",
    "  - **OperatinCapacity**: **1500-3000 s**\r\n",
    "    - **tric Tons**: **0.\r\n",
    "  - **Medium**: *100-200 HP; larger models for more demanding tasks, though skid steers are generally on the smaller end of the size spectm compared to other equipment.*\r\n",
    "    - **Horsepower**: 100-200 H\n",
    "    - **Opering Capacity**: **3000-50 lbs**\r\n",
    "   \n",
    "- **ric Tons**: **1.:**.5 tons**\r\n",
    "\r\n",
    "- tors**:\r\n",
    "  - **Mini*r 40 HP; also referred to as mini or compact excavators, used for sall-scale tasks and in tight spaces.*\r\n",
    "    - **Horsepower**: Up t40 HP\r\n",
    "    - *perating Capacity**: **Uto 2000 lbs\r\n",
    "    - **Metricp to 1 ton**\r\n",
    "  - **Small: *40-100 HP; for small to medium tasks.*\r\n",
    "    - **Horsepower**40-100 HP\r\n",
    "  - **Operating Capacity****2000-50 lbs**\r\n",
    "    - **: **1-2 tons**\r\n",
    "  - **Medium**: *100-200 HP; genel-purpose excavators for a variety of tasks.*\r\n",
    "    - **Horsepowe*: 100-200 HP\r",
    "   - **Operating Capacit*: **50010000 lbs**\r\n",
    "   ons**: **2-5 tons**\r\n",
    "  - **Large**: *20350 HP; for heavy construction and mining tasks.*\r\n",
    "    - **Horsepower**: 200-350 HP\r\n",
    "    - **Operating Capaty**: **100-20000 lbs**\r\n",
    "    -**: **5-10 tons**\r\n",
    "  - **Very Large**:Over 350 HP; for large-scale mining and earthmoving.*\r\n",
    "    - **Hoepower**: er 350 HP\r\n",
    "    - **Operang Capac**: **20000+ lbs**\r\n",
    "    - **Metric Tons**\r\n",
    "\r\n",
    "- **Backhoe Loaders**:\r",
    " - **Compact**: *Under 40 HP; smaller, versatile machines.*\r\n",
    "    **Horsepower**Up to 40 HP\r\n",
    "    - **Opeting Capaci**: **Up to 2000- **Metric Tons**: **Up to 1 ton**\r\n",
    "  - **Small**: *40-10HP; used for a variety of tasks on smaller construction sites.*    - **Horsewer**: 40-100 HP\r\n",
    "    - OperatinCapacity**: **200\n",
    "    - **Metric Tons**: **1-2 tons**\r\n",
    "- **Medium**: *100-200 HP; larger models for more demanding task*\r\n",
    "    - **Horpower**: 100-200 HP\r\n",
    "    **Operag Capacity**: **5000-10000 lbs**\r\n",
    "    - **Metric Tons**:\r\n",
    "\r\n",
    "- **Track Type Tractors (Bulldozers)**:\r\n",
    "  - **Smll**: *100-200 HP; used for residential and light construction pjects.*\r\n",
    "    - Horsepower**: 100-200 HP    - **Orating Capacity**00 lbs**\r\n",
    "    - **Metric Tons**: **5-10 tons**\r\n",
    "  - *Medium**: *200-350 HP; versatile machines for medium to heavy cstruction.*\r\n",
    "  - **Horsepower**: 200-35HP\r\n",
    "    - Operating Capaci-40000 lbs**\r\n",
    "    - **Metric Tons**: **10-20 ts**\r\n",
    "  - **Large**: *350-500 HP; used in large construction projts and mining.*    - **Horsepower**: 35500 HP\r\n",
    "  - **Operating Capacit0000 lbs**\r\n",
    "    - **Metric Tons**: **20-30 to**\r\n",
    "  - **Very Large**: *Over 500 HP; for the largest constructioand miningasks.*\r\n",
    "    - **Horsepow**: Over0 HP\r\n",
    "    - **Operating Capacity**: **\n",
    "    - **Metric Tons**: **30+ tons**\r\n",
    "\r\n",
    "- **Motor aders**:\r\n",
    "  - **Medium**: *100-200 HP; commonly used in road conruction and maienance.*\r\n",
    "    - **Horseper**: 10000 HP\r\n",
    "    - **Ocity**: **10000-20000 lbs**\r\n",
    "    - **Metric Tons**: **5-10 tons**\r\n",
    "  - **Larg*: *200-350 HP; used for larger road construction projects and  er heavy-duty gding tasks.*\r\n",
    "    - **Hoepower**: 0-350 HP\r\n",
    "    - **Opey**: **20000-40000 lbs**\r\n",
    "    - **Metric Tons**: **10-2 tons**\r\n",
    "  - **Very Large**: *Over 350 HP; used in large-scale cotruction a mining operations.*\r\n",
    "  - **Horso0-350 HP`; used for larger road construction projects and other heavy-duty grading tasks.\n",
    "    - **Very Large:** `Over 350 HP`; used in large-scale construction and mining operations.\n",
    "\n",
    "\n",
    "\n",
    "Steps we are going to take her\n",
    "1. Decide whether we can merge `Small`, `Compact`, and `Mini` as one\n",
    "2. Turning theas `Large/Mediu category to either `Large` or `Medium` according to `HorsePower` or `Operating Capacity` and d remove `Large/Medium` catego\n",
    "3. . Decide how to deal with missing values"
   ]
  },
  {
   "cell_type": "code",
   "execution_count": null,
   "id": "18dfe293-0aa7-46b6-be7b-059adfa600f1",
   "metadata": {},
   "outputs": [],
   "source": [
    "df.ProductSize.value_counts(dropna=False)"
   ]
  },
  {
   "cell_type": "code",
   "execution_count": null,
   "id": "cff1c7c7-869a-4706-a339-8fbcaf234057",
   "metadata": {},
   "outputs": [],
   "source": [
    "# Understanding the distribution of Product Size over Product Group\n",
    "pd.crosstab(df.ProductSize, df.ProductGroupDesc, dropna=False, margins=False)"
   ]
  },
  {
   "cell_type": "code",
   "execution_count": null,
   "id": "155e0e98-e333-49f3-9cb9-22d8a9fb87a7",
   "metadata": {},
   "outputs": [],
   "source": [
    "# Checking on the distribution of `Small`, `Mini`, & `Compact` sizes over Product Group\n",
    "temp = df[df.ProductSize.isin(['Small', 'Mini', 'Compact'])]\n",
    "pd.crosstab(temp.ProductSize, temp.ProductGroupDesc)"
   ]
  },
  {
   "cell_type": "code",
   "execution_count": null,
   "id": "d99bd659-ab97-4435-b988-b1c5858f43eb",
   "metadata": {},
   "outputs": [],
   "source": [
    "# Check to see if we can merge `Small`, `Mini`, & `Compact` sizes\n",
    "mini = df[(df.ProductSize == 'Mini')&(df.ProductGroupDesc == 'Track Excavators')]['SalePrice']\n",
    "small = df[(df.ProductSize == 'Small')&(df.ProductGroupDesc == 'Track Excavators')]['SalePrice']\n",
    "compact = df[(df.ProductSize == 'Compact')&(df.ProductGroupDesc == 'Track Excavators')]['SalePrice']\n",
    "\n",
    "box_data = pd.DataFrame({'Price Range': pd.concat([mini, small, compact]),\n",
    "                         'Size': ['Mini']*len(mini) + ['Small']*len(small) + ['Compact']*len(compact)})\n",
    "\n",
    "plt.figure(figsize=(12, 6))\n",
    "sns.boxplot(x='Price Range', y='Size', data=box_data)\n",
    "plt.ylabel('')\n",
    "plt.title('Price Comparison for Track Excavators in `Mini` & `Small` Sizes');"
   ]
  },
  {
   "cell_type": "code",
   "execution_count": null,
   "id": "d9e59a61-8bbc-4dae-a60f-59cd5e7afe57",
   "metadata": {},
   "outputs": [],
   "source": [
    "# Checking on Missing Values in `Track Excavators` Group\n",
    "mini = df[(df.ProductSize == 'Mini')&(df.ProductGroupDesc == 'Track Excavators')]['SalePrice']\n",
    "small = df[(df.ProductSize == 'Small')&(df.ProductGroupDesc == 'Track Excavators')]['SalePrice']\n",
    "large = df[(df.ProductSize == 'Large / Medium')&(df.ProductGroupDesc == 'Track Excavators')]['SalePrice']\n",
    "missing = df[(df.ProductSize.isna())&(df.ProductGroupDesc == 'Track Excavators')]['SalePrice']\n",
    "\n",
    "box_data = pd.DataFrame({'Price Range': pd.concat([mini, small, large, missing]),\n",
    "                         'Size': ['Mini']*len(mini) + ['Small']*len(small) + ['Large']*len(large) + ['Missing']*len(missing)})\n",
    "\n",
    "plt.figure(figsize=(12, 6))\n",
    "sns.boxplot(x='Price Range', y='Size', data=box_data)\n",
    "plt.ylabel('')\n",
    "plt.title('The relationship Between Missing Values & Product Sizes in Track Excavators based on SalePrice');"
   ]
  },
  {
   "cell_type": "markdown",
   "id": "68be2772-f12a-4474-b0e5-14d11cb01a9d",
   "metadata": {},
   "source": [
    "**Checking the distribution of Missing Values in Wheel Loaders & Track Excavators**"
   ]
  },
  {
   "cell_type": "code",
   "execution_count": null,
   "id": "f3ea6cd0-f08c-4ecd-8f29-62176fc65f39",
   "metadata": {},
   "outputs": [],
   "source": [
    "temp = df.copy()\n",
    "temp['ProductSize'] = temp['ProductSize'].fillna('Missing')"
   ]
  },
  {
   "cell_type": "code",
   "execution_count": null,
   "id": "fbd12f82-e38f-4bad-b205-302b41482b52",
   "metadata": {},
   "outputs": [],
   "source": [
    "temp['ProductSize'] = temp['ProductSize'].replace('Large / Medium', 'Large')"
   ]
  },
  {
   "cell_type": "code",
   "execution_count": null,
   "id": "e2858dd5-4b4c-489b-a09d-31fd7fcfd236",
   "metadata": {},
   "outputs": [],
   "source": [
    "temp[temp.ProductGroupDesc == 'Track Excavators']['ProductSize'].value_counts(dropna=False)"
   ]
  },
  {
   "cell_type": "code",
   "execution_count": null,
   "id": "16cee2b7-2c69-4673-b2f2-d5e0b347ebba",
   "metadata": {},
   "outputs": [],
   "source": [
    "fig, ax = plt.subplots(figsize=(12, 6))\n",
    "ax = sns.scatterplot(x=temp[temp.ProductGroupDesc == 'Wheel Loader'].saledate,\n",
    "                y=temp[temp.ProductGroupDesc == 'Wheel Loader'].SalePrice,\n",
    "                hue=temp[temp.ProductGroupDesc == 'Wheel Loader'].ProductSize,\n",
    "                hue_order = ['Large', 'Compact', 'Missing', 'Medium'])\n",
    "plt.title('SalePrice Distribution of Wheel Loaders based on their Product Size & SaleDate')\n",
    "plt.xlabel('Sale Date')\n",
    "plt.ylabel('Sale Price')\n",
    "sns.move_legend(ax, \"upper left\", bbox_to_anchor=(1, 1));"
   ]
  },
  {
   "cell_type": "code",
   "execution_count": null,
   "id": "37c698ec-afd5-4ba5-ab23-8c58533d774c",
   "metadata": {},
   "outputs": [],
   "source": [
    "fig, ax = plt.subplots(figsize=(12, 6))\n",
    "sns.scatterplot(x=temp[temp.ProductGroupDesc == 'Track Excavators'].saledate,\n",
    "                y=temp[temp.ProductGroupDesc == 'Track Excavators'].SalePrice,\n",
    "                hue=temp[temp.ProductGroupDesc == 'Track Excavators'].ProductSize,\n",
    "                hue_order = ['Missing', 'Mini', 'Small', 'Large'])\n",
    "plt.title('SalePrice Distribution of Track Excavators based on their Product Size & SaleDate')\n",
    "plt.xlabel('Sale Date')\n",
    "plt.ylabel('Sale Price')\n",
    "sns.move_legend(ax, \"upper left\", bbox_to_anchor=(1, 1));"
   ]
  },
  {
   "cell_type": "markdown",
   "id": "b7b06b02-ded7-42a6-9e95-ba853588233a",
   "metadata": {},
   "source": [
    "According to the two plots above, we see that the missing values in these two groups (`Wheel Loader` and `Track Excavators`) are distributed all over the figure which means they are from various sizes. We could possibly figure out some of these missing values according to the `config` feature we earlier extracted from `fiProductClassDesc`."
   ]
  },
  {
   "cell_type": "code",
   "execution_count": null,
   "id": "aa88bdc2-7020-4d11-a170-b08e1ad7ba0b",
   "metadata": {},
   "outputs": [],
   "source": [
    "horsepower = {\n",
    "    'Wheel Loader': {\n",
    "        40: 'Compact',\n",
    "        100: 'Small',\n",
    "        200: 'Medium',\n",
    "        350: 'Large'\n",
    "    },\n",
    "    'Skid Steer Loaders': {\n",
    "        40: 'Compact',\n",
    "        100: 'Small',\n",
    "        200: 'Medium'\n",
    "    },\n",
    "    'Track Excavators': {\n",
    "        40: 'Mini',\n",
    "        100: 'Small',\n",
    "        200: 'Medium',\n",
    "        350: 'Large'\n",
    "    },\n",
    "    'Backhoe Loaders': {\n",
    "        40: 'Compact',\n",
    "        100: 'Small',\n",
    "        200: 'Medium'\n",
    "    },\n",
    "    'Track Type Tractors': {\n",
    "        100: 'Small',\n",
    "        200: 'Medium',\n",
    "        350: 'Large'\n",
    "    },\n",
    "    'Motor Graders': {\n",
    "        100: 'Medium',\n",
    "        200: 'Large'\n",
    "    }\n",
    "}\n",
    "\n",
    "operatingcap = {\n",
    "    'Wheel Loader': {\n",
    "        2000: 'Compact',\n",
    "        6000: 'Small',\n",
    "        15000: 'Medium',\n",
    "        16000: 'Large'\n",
    "    },\n",
    "    'Skid Steer Loaders': {\n",
    "        1500: 'Compact',\n",
    "        3000: 'Small',\n",
    "        5000: 'Medium'\n",
    "    },\n",
    "    'Track Excavators': {\n",
    "        2000: 'Mini',\n",
    "        5000: 'Small',\n",
    "        10000: 'Medium',\n",
    "        20000: 'Large'\n",
    "    },\n",
    "    'Backhoe Loaders': {\n",
    "        2000: 'Compact',\n",
    "        5000: 'Small',\n",
    "        10000: 'Medium'\n",
    "    },\n",
    "    'Track Type Tractors': {\n",
    "        10000: 'Small',\n",
    "        20000: 'Medium',\n",
    "        40000: 'Large'\n",
    "    },\n",
    "    'Motor Graders': {\n",
    "        10000: 'Medium',\n",
    "        20000: 'Large'\n",
    "    }\n",
    "}\n",
    "\n",
    "mt = {\n",
    "    'Wheel Loader': {\n",
    "        3: 'Compact',\n",
    "        6: 'Small',\n",
    "        12: 'Medium',\n",
    "        13: 'Large'\n",
    "    },\n",
    "    'Skid Steer Loaders': {\n",
    "        0.75: 'Compact',\n",
    "        1.5: 'Small',\n",
    "        2.5: 'Medium'\n",
    "    },\n",
    "    'Track Excavators': {\n",
    "        6: 'Mini',\n",
    "        15: 'Small',\n",
    "        20: 'Medium',\n",
    "        45: 'Large'\n",
    "    },\n",
    "    'Backhoe Loaders': {\n",
    "        6: 'Compact',\n",
    "        10: 'Small',\n",
    "        14: 'Medium',\n",
    "        15: 'Large'\n",
    "    },\n",
    "    'Track Type Tractors': {\n",
    "        20: 'Small',\n",
    "        45: 'Medium',\n",
    "        46: 'Large'\n",
    "    },\n",
    "    'Motor Graders': {\n",
    "        12: 'Small',\n",
    "        20: 'Medium',\n",
    "        21: 'Large'\n",
    "    }\n",
    "}\n",
    "\n",
    "dd = {'Backhoe Loaders':{\n",
    "        10: 'Compact',\n",
    "        14: 'Small',\n",
    "        18: 'Medium',\n",
    "        24: 'Large'\n",
    "    }\n",
    "}"
   ]
  },
  {
   "cell_type": "code",
   "execution_count": null,
   "id": "3b4e34da-34ca-4d98-93c2-9fb319e9f72e",
   "metadata": {},
   "outputs": [],
   "source": [
    "# Function to determine product size\n",
    "def size_imputer(row):\n",
    "    config = row.config\n",
    "    product = row.ProductGroupDesc\n",
    "\n",
    "    # If config is not available return nan\n",
    "    if not isinstance(config, list):\n",
    "        return np.nan\n",
    "\n",
    "    else:\n",
    "        if config[-1] == 'Horsepower':\n",
    "            size_dict = horsepower[product]\n",
    "            max_size = max(value for value in config if isinstance(value, (float, int)))\n",
    "            max_value = min(value if value >= max_size else max(size_dict.keys()) for value in size_dict)\n",
    "            return size_dict[max_value]\n",
    "        if config[-1] == 'Metric Tons':\n",
    "            size_dict = mt[product]\n",
    "            max_size = max(value for value in config if isinstance(value, (float, int)))\n",
    "            max_value = min(value if value >= max_size else max(size_dict.keys()) for value in size_dict)\n",
    "            return size_dict[max_value]\n",
    "        if config[-1] == 'Operating Capacity':\n",
    "            size_dict = operatingcap[product]\n",
    "            max_size = max(value for value in config if isinstance(value, (float, int)))\n",
    "            max_value = min(value if value >= max_size else max(size_dict.keys()) for value in size_dict)          \n",
    "            return size_dict[max_value]\n",
    "        if config[-1] == 'Digging Depth':\n",
    "            size_dict = dd[product]\n",
    "            max_size = max(value for value in config if isinstance(value, (float, int)))\n",
    "            max_value = min(value if value >= max_size else max(size_dict.keys()) for value in size_dict)          \n",
    "            return size_dict[max_value]"
   ]
  },
  {
   "cell_type": "code",
   "execution_count": null,
   "id": "f353da01-a0ad-442b-a13b-12ef31e1fcf7",
   "metadata": {},
   "outputs": [],
   "source": [
    "imputed_size = df.apply(size_imputer, axis=1)"
   ]
  },
  {
   "cell_type": "code",
   "execution_count": null,
   "id": "887b16f9-1712-4c64-8ca6-e48bacc8c69f",
   "metadata": {},
   "outputs": [],
   "source": [
    "imputed_size.value_counts(dropna=False)"
   ]
  },
  {
   "cell_type": "code",
   "execution_count": null,
   "id": "821e28e7-536d-4c03-8e1e-677e603afebc",
   "metadata": {},
   "outputs": [],
   "source": [
    "# Comparing the imputation with actual available values\n",
    "imputed_size.compare(df.ProductSize,align_axis=1, keep_shape=False, result_names=('Imputed', 'Actual')).dropna()"
   ]
  },
  {
   "cell_type": "markdown",
   "id": "27e5b3b6-a96d-47b8-baba-924ca650674b",
   "metadata": {},
   "source": [
    "There are some differences in categorizations, however, since the values in our imputation dictionaries are according to industry standards, we are not trying to align it with the dataset values since these values could be wrong. Thus, we only impute the missing values in the `ProductSize` column with our imputation result and leave the rest as is."
   ]
  },
  {
   "cell_type": "code",
   "execution_count": null,
   "id": "e9ef3f55-0421-4314-a262-673725cce20f",
   "metadata": {},
   "outputs": [],
   "source": [
    "# According to our imputation, it's safe to change `Large / Medium` to `Large`\n",
    "df.ProductSize = df.ProductSize.replace('Large / Medium', 'Large')"
   ]
  },
  {
   "cell_type": "code",
   "execution_count": null,
   "id": "1bc1fa78-5a74-4364-b34e-be766c5ab220",
   "metadata": {},
   "outputs": [],
   "source": [
    "imputed_size = imputed_size.to_dict()\n",
    "df.ProductSize = df.ProductSize.fillna(imputed_size)"
   ]
  },
  {
   "cell_type": "code",
   "execution_count": null,
   "id": "d2747142-d0b3-4096-9862-4d5eacc57f49",
   "metadata": {},
   "outputs": [],
   "source": [
    "pd.crosstab(df.ProductSize, df.ProductGroupDesc, margins=True, dropna=False)"
   ]
  },
  {
   "cell_type": "code",
   "execution_count": null,
   "id": "f39a9ebc-2b11-46da-b388-5dcb5e20c4ae",
   "metadata": {},
   "outputs": [],
   "source": [
    "df[df.ProductGroupDesc == 'Wheel Loader'].config.value_counts()"
   ]
  },
  {
   "cell_type": "markdown",
   "id": "cf4fbf43-1d6f-44f9-9228-a9589829fbd4",
   "metadata": {},
   "source": [
    "### Inspecting Drive_System"
   ]
  },
  {
   "cell_type": "code",
   "execution_count": null,
   "id": "eec88a26-2277-4854-b073-c9adcb26a66c",
   "metadata": {},
   "outputs": [],
   "source": [
    "df.Drive_System.value_counts(dropna=False)"
   ]
  },
  {
   "cell_type": "markdown",
   "id": "091faf0d-153c-414b-9bdc-2a0ade894f61",
   "metadata": {},
   "source": [
    "#### Drive System\n",
    "The drive system of heavy machinery refers to how power is transmitted to the wheels or tracks of the vehicle. For the six types of equipment we have in dataset, the drive systems can vary aS follows:\n",
    "1. **Wheel Loader:** Typically available in both two-wheel drive (2WD) and four-wheel drive (4WD), but `4WD is more common` due to the need for better traction and stability.\n",
    "2. **Skid Steer Loaders:** Most commonly equipped with `four-wheel drive (4WD)`, but all-wheel drive (AWD) is also a term sometimes used interchangeably depending on the specific model and manufacturer.\n",
    "3. **Track Excavators:** These use `tracks` instead of wheels, so the concept of wheel drive systems `doesn't apply`. Instead, they have track drives.\n",
    "4. **Backhoe Loaders:** Generally available in both two-wheel drive (2WD) and four-wheel drive (4WD), with `4WD being preferred` for off-road capabilities.\n",
    "5. **Track Type Tractors (Bulldozers):** These also use `tracks` instead of wheels, so they don't fit into the 2WD, 4WD, or AWD categories.\n",
    "6. **Motor Graders:** Typically available in both two-wheel drive (2WD) and four-wheel drive (4WD), with `4WD versions being more common` for enhanced traction and control.\n",
    "\n",
    "Also, paying attention to `Motor Graders` and `Backhoe Loaders`, we see that a small number of them are marked as `All Wheel Drive` which according to our research does not exist for these types of machinery, however, since there are only a few records of them, we let them AS IS.\n",
    "\n",
    "So, we are going to treat `Drive_System` as follows:\n",
    "1. Imputing missing values as highlighted above.\n",
    "2. Checking whether our decision for `Backhoe Loaders` is correct."
   ]
  },
  {
   "cell_type": "code",
   "execution_count": null,
   "id": "cdbe3e68-8ce5-4a34-9e6f-7ce34e08088e",
   "metadata": {},
   "outputs": [],
   "source": [
    "pd.crosstab(df.Drive_System, df.ProductGroupDesc,dropna=False, margins=True)"
   ]
  },
  {
   "cell_type": "code",
   "execution_count": null,
   "id": "9f30932c-b558-4e06-85ce-34405efc292a",
   "metadata": {},
   "outputs": [],
   "source": [
    "df.Drive_System = df.Drive_System.replace('No', np.nan)"
   ]
  },
  {
   "cell_type": "code",
   "execution_count": null,
   "id": "a85e4a8f-9243-4ed8-9907-ed46a98ffd8f",
   "metadata": {},
   "outputs": [],
   "source": [
    "missing = df[(df.Drive_System.isna() == True) & (df.ProductGroupDesc == 'Backhoe Loaders')]['SalePrice']\n",
    "fourw = df[(df.Drive_System == 'Four Wheel Drive') & (df.ProductGroupDesc == 'Backhoe Loaders')]['SalePrice']\n",
    "twow = df[(df.Drive_System == 'Two Wheel Drive') & (df.ProductGroupDesc == 'Backhoe Loaders')]['SalePrice']\n",
    "\n",
    "box_data = pd.DataFrame({'Price Range': pd.concat([missing, fourw, twow]),\n",
    "                         'Drive System': ['Missing']*len(missing)+['4WD']*len(fourw)+['2WD']*len(twow)})\n",
    "fig, ax = plt.subplots(figsize=(12, 6))\n",
    "sns.boxplot(x='Price Range', y='Drive System', data=box_data)\n",
    "plt.title('Comparing Price Range of Missing values in `Drive_System` with the two common groups for `Backhoe Loaders`');"
   ]
  },
  {
   "cell_type": "code",
   "execution_count": null,
   "id": "2050a84d-2fca-4b9f-a4c8-ced96cc219dd",
   "metadata": {},
   "outputs": [],
   "source": [
    "ds_mapping = {'Wheel Loader': 'Four Wheel Drive',\n",
    "              'Track Type Tractors': 'Tracks',\n",
    "              'Track Excavators':'Tracks',\n",
    "              'Skid Steer Loaders': 'Four Wheel Drive',\n",
    "              'Motor Graders': 'Four Wheel Drive',\n",
    "              'Backhoe Loaders': 'Four Wheel Drive'}\n",
    "\n",
    "def ds_imputer(row):\n",
    "    if pd.isna(row.Drive_System):\n",
    "        return ds_mapping[row.ProductGroupDesc]\n",
    "    else:\n",
    "        return row.Drive_System\n",
    "df.Drive_System = df.apply(ds_imputer, axis=1)"
   ]
  },
  {
   "cell_type": "markdown",
   "id": "ce159ee6-5828-479e-8f98-22003ab12b0c",
   "metadata": {},
   "source": [
    "### Inspecting Enclosure & Enclosure_Type"
   ]
  },
  {
   "cell_type": "code",
   "execution_count": null,
   "id": "c4c515ce-4b57-4dab-8cc9-6375773ba3aa",
   "metadata": {},
   "outputs": [],
   "source": [
    "df.Enclosure.value_counts(dropna=False)"
   ]
  },
  {
   "cell_type": "markdown",
   "id": "e5f7f496-024f-4587-9b78-06715fdee29e",
   "metadata": {},
   "source": [
    "#### Enclosure\n",
    "The enclosure type of heavy equipment refers to the operator's cabin and the level of protection it provides. Here’s a breakdown of the enclosures:\n",
    "\n",
    "* **EROPS (Enclosed Rollover Protective Structure):** A protective cabin that encloses the operator, providing protection against rollovers and environmental elements.\n",
    "* **EROPS w AC / EROPS AC:** An EROPS enclosure with air conditioning. These terms can be considered the same as they both indicate an enclosed cabin with AC.\n",
    "* **OROPS (Open Rollover Protective Structure):** A protective frame around the operator's seat that provides protection against rollovers but does not enclose the operator.\n",
    "* **NO ROPS:** Indicates the equipment lacks a rollover protective structure.\n",
    "* **None or Unspecified:** Indicates that no specific information is provided about the enclosure, which might imply no ROPS or that the data is missing.\n",
    "\n",
    "Enclosures for Each Equipment Type:\n",
    "* **Wheel Loader:** Can have EROPS (with or without AC) or `OROPS`.\n",
    "* **Skid Steer Loaders:** Typically have EROPS or `OROPS`, with enclosed versions often having AC.\n",
    "* **Track Excavators:** Usually have `EROPS` (with or without AC) due to the nature of their work environment.\n",
    "* **Backhoe Loaders:** Can have EROPS (with or without AC) or `OROPS`.\n",
    "* **Track Type Tractors (Bulldozers):** Usually have `EROPS` (with or without AC) for protection in harsh conditions.\n",
    "* **Motor Graders:** Typically have `EROPS` (with or without AC) or OROPS.\n",
    "\n",
    "Conclusion:\n",
    "* `OROPS` is a common option for Wheel Loaders, Skid Steer Loaders, Backhoe Loaders, and Motor Graders\n",
    "* Track Excavators and Track Type Tractors are generally provided with `EROPS` due to safety and environmental protection needs.\n",
    "* `NO ROPS` is uncommon for modern equipment, might be found in older models or certain types of specialized machinery.\n",
    "\n",
    "Here's how we are going to Handle the Missing Values/Erroneous types:\n",
    "1. Combine `EROPS w AC` and `EROPS AC` together\n",
    "2. Change `None or Unspecified` to `NaN`\n",
    "3. Check whether we should combine `EROPS w AC` with `EROPS`\n",
    "4. Change all `NaN` values to the above highlights"
   ]
  },
  {
   "cell_type": "code",
   "execution_count": null,
   "id": "c4a0a796-da8c-4dd2-b116-dda8a5f4c8d7",
   "metadata": {},
   "outputs": [],
   "source": [
    "pd.crosstab(df.Enclosure, df.ProductGroupDesc, dropna=False, margins=True)"
   ]
  },
  {
   "cell_type": "code",
   "execution_count": null,
   "id": "7e3b26fb-40f8-4e0e-a930-f0c709db2c39",
   "metadata": {},
   "outputs": [],
   "source": [
    "missing = df[(df.Enclosure.isna() == True) & (df.ProductGroupDesc == 'Wheel Loader')]['SalePrice']\n",
    "EROPS = df[((df.Enclosure == 'EROPS') |  (df.Enclosure == 'EROPS w AC')) & (df.ProductGroupDesc == 'Wheel Loader')]['SalePrice']\n",
    "OROPS = df[(df.Enclosure == 'OROPS') & (df.ProductGroupDesc == 'Wheel Loader')]['SalePrice']\n",
    "\n",
    "box_data = pd.DataFrame({'Price Range': pd.concat([missing, EROPS, OROPS]),\n",
    "                         'Enclosure': ['Missing']*len(missing)+['EROPS']*len(EROPS)+['OROPS']*len(OROPS)})\n",
    "fig, ax = plt.subplots(figsize=(12, 6))\n",
    "sns.boxplot(x='Price Range', y='Enclosure', data=box_data)\n",
    "plt.title('Comparing Price Range of Missing values in `Enclosure` with the two common groups for `Wheel Loader`');"
   ]
  },
  {
   "cell_type": "code",
   "execution_count": null,
   "id": "6e427eb6-1541-448a-8276-d16db9704d86",
   "metadata": {},
   "outputs": [],
   "source": [
    "missing = df[(df.Enclosure.isna() == True) & (df.ProductGroupDesc == 'Backhoe Loaders')]['SalePrice']\n",
    "EROPS = df[((df.Enclosure == 'EROPS') |  (df.Enclosure == 'EROPS w AC')) & (df.ProductGroupDesc == 'Backhoe Loaders')]['SalePrice']\n",
    "OROPS = df[(df.Enclosure == 'OROPS') & (df.ProductGroupDesc == 'Backhoe Loaders')]['SalePrice']\n",
    "\n",
    "box_data = pd.DataFrame({'Price Range': pd.concat([missing, EROPS, OROPS]),\n",
    "                         'Enclosure': ['Missing']*len(missing)+['EROPS']*len(EROPS)+['OROPS']*len(OROPS)})\n",
    "fig, ax = plt.subplots(figsize=(12, 6))\n",
    "sns.boxplot(x='Price Range', y='Enclosure', data=box_data)\n",
    "plt.title('Comparing Price Range of Missing values in `Enclosure` with the two common groups for `Backhoe Loaders`');"
   ]
  },
  {
   "cell_type": "code",
   "execution_count": null,
   "id": "b8425e58-6e8f-4689-bc10-29022ea9b7c8",
   "metadata": {},
   "outputs": [],
   "source": [
    "en_mapping = {'EROPS AC': 'EROPS w AC', 'None or Unspecified':np.nan}\n",
    "df.Enclosure = df.Enclosure.replace(en_mapping)"
   ]
  },
  {
   "cell_type": "code",
   "execution_count": null,
   "id": "52c438b7-ca3c-4f2c-aad3-180d3a3a67bb",
   "metadata": {},
   "outputs": [],
   "source": [
    "EROPS = df[df.Enclosure == 'EROPS']['SalePrice']\n",
    "EROPSAC = df[df.Enclosure == 'EROPS w AC']['SalePrice']\n",
    "\n",
    "box_data = pd.DataFrame({'Price Range': pd.concat([EROPS, EROPSAC]),\n",
    "                         'Enclosure': ['EROPS']*len(EROPS)+['EROPS w AC']*len(EROPSAC)})\n",
    "fig, ax = plt.subplots(figsize=(12, 6))\n",
    "sns.boxplot(x='Price Range', y='Enclosure', data=box_data)\n",
    "plt.title('Comparing Price Range for `EROPS` cabine types with/without AC')\n",
    "plt.ylabel('');"
   ]
  },
  {
   "cell_type": "code",
   "execution_count": null,
   "id": "aa1c0148-c6d6-46f0-9534-4abae5ade880",
   "metadata": {},
   "outputs": [],
   "source": [
    "en_mapping = {'Wheel Loader': 'OROPS',\n",
    "              'Track Type Tractors': 'EROPS',\n",
    "              'Track Excavators':'EROPS',\n",
    "              'Skid Steer Loaders': 'OROPS',\n",
    "              'Motor Graders': 'EROPS',\n",
    "              'Backhoe Loaders': 'OROPS'}\n",
    "def en_imputer(row):\n",
    "    if pd.isna(row.Enclosure):\n",
    "        return en_mapping[row.ProductGroupDesc]\n",
    "    else:\n",
    "        return row.Enclosure\n",
    "df.Enclosure = df.apply(en_imputer, axis=1)"
   ]
  },
  {
   "cell_type": "code",
   "execution_count": null,
   "id": "0160e417-9cd8-419c-b1e2-0caec543a7cc",
   "metadata": {},
   "outputs": [],
   "source": [
    "df.Enclosure_Type.value_counts(dropna=False)"
   ]
  },
  {
   "cell_type": "markdown",
   "id": "04621242-86c2-4651-90b9-95445bc46931",
   "metadata": {},
   "source": [
    "#### Enclosure_Type\n",
    "The term \"Enclosure Type\" generally refers to the design and configuration of the operator's cabin or protective structure. \n",
    "\n",
    "* **Low Profile:** A design where the operator’s cabin or protective structure is lower to the ground, which can be beneficial for working in areas with height restrictions or where a lower center of gravity is advantageous. More common in `compact equipment` like Skid Steer Loaders and some Wheel Loaders.\n",
    "* **High Profile:** A design where the operator’s cabin or protective structure is elevated, providing better visibility for the operator and often used in applications where height is not a restriction. Common across most types of heavy equipment, including Wheel Loaders, Track Excavators, Backhoe Loaders, Track Type Tractors, and Motor Graders due to the need for improved operator visibility.\n",
    "\n",
    "Enclosure Types for Each Equipment Type:\n",
    "* **Wheel Loader:** Typically can have both low profile and high profile enclosures depending on the model and intended use.\n",
    "* **Skid Steer Loaders:** Often come in both low profile and high profile variants, with `low profile` being common for `compact` models.\n",
    "* **Track Excavators:** Generally have high profile enclosures due to the need for better visibility during digging operations.\n",
    "* **Backhoe Loaders:** Can have both low profile and high profile enclosures.\n",
    "* **Track Type Tractors (Bulldozers):** Usually have `high profile` enclosures to provide better visibility and control in rugged environments.\n",
    "* **Motor Graders:** Typically have `high profile` enclosures for better visibility during grading operations."
   ]
  },
  {
   "cell_type": "code",
   "execution_count": null,
   "id": "bf5ffd9a-bfba-4bd9-a033-176d7c55053f",
   "metadata": {},
   "outputs": [],
   "source": [
    "pd.crosstab([df.ProductGroupDesc, df.ProductSize], df.Enclosure_Type, dropna=False, margins=True)"
   ]
  },
  {
   "cell_type": "code",
   "execution_count": null,
   "id": "32278809-e021-4eb2-8999-f420a646f483",
   "metadata": {},
   "outputs": [],
   "source": [
    "df.ProductSize.value_counts(dropna=False)"
   ]
  },
  {
   "cell_type": "markdown",
   "id": "320eb0d4-31f4-473b-9267-512ae6f32886",
   "metadata": {},
   "source": [
    "### Inspecting Forks"
   ]
  },
  {
   "cell_type": "code",
   "execution_count": null,
   "id": "259d75a5-6678-4f73-b9d4-9b73558449fc",
   "metadata": {},
   "outputs": [],
   "source": [
    "df.Forks.unique()"
   ]
  },
  {
   "cell_type": "code",
   "execution_count": null,
   "id": "078e2076-a45f-487a-becd-cb5a28b5cb83",
   "metadata": {},
   "outputs": [],
   "source": [
    "# Checking to see how the nan values are distributed\n",
    "df[['ProductGroup', 'Forks']].groupby('Forks').value_counts(dropna=False)"
   ]
  },
  {
   "cell_type": "code",
   "execution_count": null,
   "id": "cfd02c16-8196-4322-a40c-f090ae850d48",
   "metadata": {},
   "outputs": [],
   "source": [
    "fork_mapping = {'None or Unspecified': 'Unspecified', np.nan: 'Unspecified'}\n",
    "df.Forks = df.Forks.replace(fork_mapping)"
   ]
  },
  {
   "cell_type": "code",
   "execution_count": null,
   "id": "30d82a5a-f7a1-4577-8726-1b60c9acd46b",
   "metadata": {},
   "outputs": [],
   "source": [
    "df[df.Forks == 'Unspecified']['SalePrice'].describe()"
   ]
  },
  {
   "cell_type": "code",
   "execution_count": null,
   "id": "7b46da31-f555-4b04-9306-4988d483bdce",
   "metadata": {},
   "outputs": [],
   "source": [
    "df[df.Forks == 'Yes']['SalePrice'].describe()"
   ]
  },
  {
   "cell_type": "code",
   "execution_count": null,
   "id": "e04506f8-2659-4f11-9e58-3d9573a981d4",
   "metadata": {},
   "outputs": [],
   "source": [
    "df.Forks = df.Forks.astype('category')"
   ]
  },
  {
   "cell_type": "markdown",
   "id": "55293a98-da1d-44fc-8ad7-a4595ea74cb0",
   "metadata": {},
   "source": [
    "### Inspecting Pad_Type"
   ]
  },
  {
   "cell_type": "code",
   "execution_count": null,
   "id": "4cdacc9f-a16a-47b4-95e5-7d0f0ea7abba",
   "metadata": {},
   "outputs": [],
   "source": [
    "df.Pad_Type.value_counts(dropna=False)"
   ]
  },
  {
   "cell_type": "code",
   "execution_count": null,
   "id": "dd18924e-07b9-4b57-9ae9-80001356b3a3",
   "metadata": {},
   "outputs": [],
   "source": [
    "padtype_mapping = {'None or Unspecified': 'Unspecified', np.nan: 'Unspecified'}\n",
    "df.Pad_Type = df.Pad_Type.replace(padtype_mapping)"
   ]
  },
  {
   "cell_type": "code",
   "execution_count": null,
   "id": "0bbee03c-c5a4-45d0-8375-3ef50e6eb27e",
   "metadata": {},
   "outputs": [],
   "source": [
    "df.Pad_Type = df.Pad_Type.astype('category')"
   ]
  },
  {
   "cell_type": "markdown",
   "id": "e7ab8efe-16f1-4353-bdcd-1801759f2b70",
   "metadata": {},
   "source": [
    "### Inspecting Ride_Control"
   ]
  },
  {
   "cell_type": "code",
   "execution_count": null,
   "id": "f91253dd-ff06-4940-a117-706306c809eb",
   "metadata": {},
   "outputs": [],
   "source": [
    "df.Ride_Control.value_counts(dropna=False)"
   ]
  },
  {
   "cell_type": "code",
   "execution_count": null,
   "id": "8d0cd37b-6cc5-4807-8fef-097f1c739469",
   "metadata": {},
   "outputs": [],
   "source": [
    "ride_control_mapping = {'None or Unspecified': 'Unspecified', np.nan: 'Unspecified'}\n",
    "df.Ride_Control = df.Ride_Control.replace(ride_control_mapping)"
   ]
  },
  {
   "cell_type": "code",
   "execution_count": null,
   "id": "b444c1d3-6ee4-42a0-a172-5be90f06d37e",
   "metadata": {},
   "outputs": [],
   "source": [
    "df.Ride_Control = df.Ride_Control.astype('category')"
   ]
  },
  {
   "cell_type": "markdown",
   "id": "413d7e23-0eb7-4658-ae29-c2fd5c43c609",
   "metadata": {},
   "source": [
    "### Inspecting Stick"
   ]
  },
  {
   "cell_type": "code",
   "execution_count": null,
   "id": "20ab404f-943f-4dca-946b-cc3b9f79a5e0",
   "metadata": {},
   "outputs": [],
   "source": [
    "df.Stick = df.Stick.replace(np.nan, 'Missing')"
   ]
  },
  {
   "cell_type": "code",
   "execution_count": null,
   "id": "6161b1e2-ac01-420d-b15a-c30d234685a5",
   "metadata": {},
   "outputs": [],
   "source": [
    "# PLotting the SalePrice over the 3 types to see if we can figure out the missing type\n",
    "missing = df.SalePrice[df.Stick == 'Missing']\n",
    "standard = df.SalePrice[df.Stick == 'Standard']\n",
    "extended = df.SalePrice[df.Stick == 'Extended']\n",
    "\n",
    "box_data = pd.DataFrame({'SalePrice': pd.concat([missing, standard, extended]),\n",
    "                         'Stick': ['Missing']*len(missing) + ['Standard']*len(standard) + ['Extended']*len(extended)})\n",
    "sns.violinplot(x='Stick', y='SalePrice', data=box_data)"
   ]
  },
  {
   "cell_type": "markdown",
   "id": "8e917173-c13f-4a58-ae24-8db3c6c51656",
   "metadata": {},
   "source": [
    "### Inspecting Transmission"
   ]
  },
  {
   "cell_type": "code",
   "execution_count": null,
   "id": "bae9bf42-01df-40c5-8920-85b64142bc39",
   "metadata": {},
   "outputs": [],
   "source": [
    "df.Transmission.value_counts(dropna=False)"
   ]
  },
  {
   "cell_type": "code",
   "execution_count": null,
   "id": "f780d9ee-8474-4c89-b3bc-9823f861187b",
   "metadata": {},
   "outputs": [],
   "source": [
    "trans_mapping = {'None or Unspecified': 'Unspecified', np.nan: 'Unspecified', 'AutoShift': 'Autoshift'}\n",
    "df.Transmission = df.Transmission.replace(trans_mapping)"
   ]
  },
  {
   "cell_type": "code",
   "execution_count": null,
   "id": "f4fd93b8-1460-4c66-8e5c-598296b63c1b",
   "metadata": {},
   "outputs": [],
   "source": [
    "df.Transmission = df.Transmission.astype('category')"
   ]
  },
  {
   "cell_type": "markdown",
   "id": "fb575c93-27bc-4ccc-8831-42524c54e17b",
   "metadata": {},
   "source": [
    "### Inspectin Turbocharged"
   ]
  },
  {
   "cell_type": "code",
   "execution_count": null,
   "id": "7b153b6d-a466-40f5-8e55-6815eb3c22b9",
   "metadata": {},
   "outputs": [],
   "source": [
    "df.Turbocharged.value_counts(dropna=False)"
   ]
  },
  {
   "cell_type": "code",
   "execution_count": null,
   "id": "1b610c8f-ffbf-4e85-8174-59e62b4e6888",
   "metadata": {},
   "outputs": [],
   "source": [
    "turbo_mapping = {'None or Unspecified': 'Unspecified', np.nan: 'Unspecified'}\n",
    "df.Turbocharged = df.Turbocharged.replace(turbo_mapping)"
   ]
  },
  {
   "cell_type": "code",
   "execution_count": null,
   "id": "e65abea1-9b8b-4d9a-8507-996c9412e71a",
   "metadata": {},
   "outputs": [],
   "source": [
    "df.Turbocharged = df.Turbocharged.astype('category')"
   ]
  },
  {
   "cell_type": "markdown",
   "id": "ddb39563-989b-4847-8e9f-12ac72fa1c8e",
   "metadata": {},
   "source": [
    "### Inspecting Blade_Extension, Blade_Width, Blade_Type"
   ]
  },
  {
   "cell_type": "code",
   "execution_count": null,
   "id": "d9eada2a-851d-418b-9b3b-683c71855d34",
   "metadata": {},
   "outputs": [],
   "source": [
    "df.Blade_Extension.value_counts(dropna=False)"
   ]
  },
  {
   "cell_type": "code",
   "execution_count": null,
   "id": "e23a65a2-0605-4319-afdc-44abf1716306",
   "metadata": {},
   "outputs": [],
   "source": [
    "blade_mapping = {'None or Unspecified': 'Unspecified', np.nan: 'Unspecified'}\n",
    "df.Blade_Extension = df.Blade_Extension.replace(blade_mapping)"
   ]
  },
  {
   "cell_type": "code",
   "execution_count": null,
   "id": "551a6746-1589-4d14-954b-d18197c25342",
   "metadata": {},
   "outputs": [],
   "source": [
    "df.Blade_Extension = df.Blade_Extension.astype('category')"
   ]
  },
  {
   "cell_type": "code",
   "execution_count": null,
   "id": "79c4fcb0-1190-470c-8019-99f52de59ba2",
   "metadata": {},
   "outputs": [],
   "source": [
    "df.Blade_Width.value_counts(dropna=False)"
   ]
  },
  {
   "cell_type": "code",
   "execution_count": null,
   "id": "43b1ebf2-8390-45c3-ae84-4a8396d454e9",
   "metadata": {},
   "outputs": [],
   "source": [
    "df.ProductGroup.unique()"
   ]
  },
  {
   "cell_type": "code",
   "execution_count": null,
   "id": "7de7bc36-956b-4c70-8a68-f837c5b9a71f",
   "metadata": {},
   "outputs": [],
   "source": [
    "temp = df[['Blade_Extension', 'Blade_Width', 'Blade_Type']]\n",
    "temp[temp['Blade_Extension'] == 'Unspecified'].value_counts(dropna=False)"
   ]
  },
  {
   "cell_type": "code",
   "execution_count": null,
   "id": "642ea027-180f-43dc-a70b-c8d00aed7456",
   "metadata": {},
   "outputs": [],
   "source": [
    "blade_mapping = {'None or Unspecified': 'Unspecified', np.nan: 'Unspecified'}\n",
    "df.Blade_Width = df.Blade_Width.replace(blade_mapping)"
   ]
  },
  {
   "cell_type": "code",
   "execution_count": null,
   "id": "7a88847e-020c-40b1-b4be-c0b0e1a38243",
   "metadata": {},
   "outputs": [],
   "source": [
    "df.Blade_Width = df.Blade_Width.astype('category')"
   ]
  },
  {
   "cell_type": "markdown",
   "id": "59e1a40a-bb38-49a9-85bf-66adaa35e3cc",
   "metadata": {},
   "source": [
    "### Inspecting Engine_Horsepower"
   ]
  },
  {
   "cell_type": "markdown",
   "id": "99224b1e-eca5-4381-8dbd-7526e48b29a8",
   "metadata": {},
   "source": [
    "### Inspecting Hydraulics"
   ]
  },
  {
   "cell_type": "code",
   "execution_count": null,
   "id": "ce4db07e-f1fe-4014-a533-d3a49930d6fe",
   "metadata": {},
   "outputs": [],
   "source": [
    "df.Hydraulics.value_counts(dropna=False)"
   ]
  },
  {
   "cell_type": "markdown",
   "id": "c4cbd7dc-5e7f-471a-9502-51c1d4335113",
   "metadata": {},
   "source": [
    "### Inspecting Pushblock"
   ]
  },
  {
   "cell_type": "markdown",
   "id": "76c00ee4-f3e8-444f-8470-71f4476a6555",
   "metadata": {},
   "source": [
    "### Inspecting Ripper"
   ]
  },
  {
   "cell_type": "markdown",
   "id": "60b45360-2e25-4f03-a8ee-ccc3f55b6415",
   "metadata": {},
   "source": [
    "### Inspecting Scarifier"
   ]
  },
  {
   "cell_type": "markdown",
   "id": "0159062a-84dd-4077-be11-4e20b35c185b",
   "metadata": {},
   "source": [
    "### Inspecting Tip_control"
   ]
  },
  {
   "cell_type": "markdown",
   "id": "a3a974dd-a0f2-4158-92df-7bb3100f4858",
   "metadata": {},
   "source": [
    "### Inspecting Tire_Size"
   ]
  },
  {
   "cell_type": "markdown",
   "id": "a400aab8-c3a6-493c-b02c-653bc8feffbf",
   "metadata": {},
   "source": [
    "### Inspecting Coupler"
   ]
  },
  {
   "cell_type": "markdown",
   "id": "2d2bc309-84c9-48af-8ba6-cf6fbb6528f6",
   "metadata": {},
   "source": [
    "### Inspecting Coupler_System"
   ]
  },
  {
   "cell_type": "markdown",
   "id": "537bb603-3887-486c-b1b5-748965d2fff8",
   "metadata": {},
   "source": [
    "### Inspecting Grouser_Tracks"
   ]
  },
  {
   "cell_type": "markdown",
   "id": "5fba0fa5-db8f-43ec-b184-49b8d4647c71",
   "metadata": {},
   "source": [
    "### Inspecting Hydraulics_Flow"
   ]
  },
  {
   "cell_type": "markdown",
   "id": "b3646565-bac0-4b24-90f9-b3597e438551",
   "metadata": {},
   "source": [
    "### Inspecting Track_Type"
   ]
  },
  {
   "cell_type": "markdown",
   "id": "3f93b184-59d1-4477-aa90-cbd9b2d86c78",
   "metadata": {},
   "source": [
    "### Inspecting Undercarriage_Pad_Width"
   ]
  },
  {
   "cell_type": "markdown",
   "id": "e736c360-da1b-4c56-9e3b-479e7c5d5fac",
   "metadata": {},
   "source": [
    "### Inspecting Stick_Length"
   ]
  },
  {
   "cell_type": "code",
   "execution_count": null,
   "id": "e8851d64-c8f6-4b1a-b0e9-529923d5b4b2",
   "metadata": {},
   "outputs": [],
   "source": [
    "df.Stick_Length.value_counts(dropna=False)"
   ]
  },
  {
   "cell_type": "markdown",
   "id": "bc13ef21-d9be-4f4b-be60-77503e52cec1",
   "metadata": {},
   "source": [
    "### Inspecting Thumb"
   ]
  },
  {
   "cell_type": "markdown",
   "id": "bb4fb65b-63dd-4670-b52d-8067aa477e3c",
   "metadata": {},
   "source": [
    "### Inspecting Pattern_Changer"
   ]
  },
  {
   "cell_type": "code",
   "execution_count": null,
   "id": "c96655a9-4805-4e24-af3b-ee8e4c4902d7",
   "metadata": {},
   "outputs": [],
   "source": [
    "df.Pattern_Changer.value_counts(dropna=False)"
   ]
  },
  {
   "cell_type": "markdown",
   "id": "b4475986-3703-499f-97f0-f4389cf087a2",
   "metadata": {},
   "source": [
    "### Inspecting Grouser_Type"
   ]
  },
  {
   "cell_type": "code",
   "execution_count": null,
   "id": "00c35be8-b35c-47b5-84fa-e6216a2eb748",
   "metadata": {},
   "outputs": [],
   "source": [
    "df.Grouser_Type.value_counts(dropna=False)"
   ]
  },
  {
   "cell_type": "markdown",
   "id": "153f3d40-1108-489f-b093-b30059d546f7",
   "metadata": {},
   "source": [
    "### Inspecting Backhoe_Mounting"
   ]
  },
  {
   "cell_type": "markdown",
   "id": "4a6cf600-96b3-4c1d-8f66-bdff61bd153d",
   "metadata": {},
   "source": [
    "### Inspecting Travel_Controls"
   ]
  },
  {
   "cell_type": "code",
   "execution_count": null,
   "id": "9a63b202-d857-4ca3-8009-66c46708cb0f",
   "metadata": {},
   "outputs": [],
   "source": [
    "df.Travel_Controls.value_counts(dropna=False)"
   ]
  },
  {
   "cell_type": "markdown",
   "id": "1f8ddff3-9e1e-4ba7-8145-825a70927fdc",
   "metadata": {},
   "source": [
    "### Inspecting Differential_Type"
   ]
  },
  {
   "cell_type": "code",
   "execution_count": null,
   "id": "f6f29664-f5b4-4ae3-bb14-9fbd09d55bb2",
   "metadata": {},
   "outputs": [],
   "source": [
    "df.Differential_Type.value_counts(dropna=False)"
   ]
  },
  {
   "cell_type": "markdown",
   "id": "1181682a-8011-4383-8294-63a36926351b",
   "metadata": {},
   "source": [
    "### Inspecting Steering_Controls"
   ]
  },
  {
   "cell_type": "code",
   "execution_count": null,
   "id": "de1afecf-f258-4033-bfed-d1d1c8c3b75f",
   "metadata": {},
   "outputs": [],
   "source": [
    "df.Steering_Controls.value_counts(dropna=False)"
   ]
  },
  {
   "cell_type": "markdown",
   "id": "0efe1df9-1dfd-4aa8-90fb-900a46fbb3ef",
   "metadata": {},
   "source": [
    "# Feature Selection"
   ]
  },
  {
   "cell_type": "code",
   "execution_count": null,
   "id": "043eb8cd-dfaa-44c0-9943-7d203d630ca2",
   "metadata": {},
   "outputs": [],
   "source": [
    "# Forward floating feature selection"
   ]
  },
  {
   "cell_type": "markdown",
   "id": "2db4adc0-aca2-4fa2-b473-785592dcbca0",
   "metadata": {},
   "source": [
    "# Modelling"
   ]
  },
  {
   "cell_type": "markdown",
   "id": "66262872-e483-4734-9760-cffc962706cd",
   "metadata": {},
   "source": [
    "# Evaluation"
   ]
  },
  {
   "cell_type": "markdown",
   "id": "28f24238-2fb0-4f43-86e5-92dc316d4b73",
   "metadata": {},
   "source": [
    "# Hyperparameter Tuning"
   ]
  },
  {
   "cell_type": "markdown",
   "id": "8b91ed37-a947-45b8-8a95-222f1be098ca",
   "metadata": {},
   "source": [
    "# Pipeline"
   ]
  },
  {
   "cell_type": "markdown",
   "id": "24883320-b0ac-4c2b-9863-87da6e6b4581",
   "metadata": {},
   "source": [
    "# Validation Set"
   ]
  },
  {
   "cell_type": "markdown",
   "id": "a9117f5b-62a0-48d7-a315-dd89f7e1e785",
   "metadata": {},
   "source": [
    "# Test Set"
   ]
  },
  {
   "cell_type": "code",
   "execution_count": null,
   "id": "tsi_xoTw1E0h",
   "metadata": {
    "id": "tsi_xoTw1E0h"
   },
   "outputs": [],
   "source": [
    "# Test data\n",
    "  # importing test data\n",
    "  # preprocess test data\n",
    "  # make predictions on test data"
   ]
  }
 ],
 "metadata": {
  "colab": {
   "provenance": []
  },
  "kernelspec": {
   "display_name": "Python 3 (ipykernel)",
   "language": "python",
   "name": "python3"
  },
  "language_info": {
   "codemirror_mode": {
    "name": "ipython",
    "version": 3
   },
   "file_extension": ".py",
   "mimetype": "text/x-python",
   "name": "python",
   "nbconvert_exporter": "python",
   "pygments_lexer": "ipython3",
   "version": "3.11.5"
  }
 },
 "nbformat": 4,
 "nbformat_minor": 5
}
